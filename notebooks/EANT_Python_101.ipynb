{
 "cells": [
  {
   "cell_type": "markdown",
   "metadata": {
    "colab_type": "text",
    "id": "T_wWE6LDLtAn"
   },
   "source": [
    "# Python 101"
   ]
  },
  {
   "cell_type": "markdown",
   "metadata": {
    "colab_type": "text",
    "id": "rTK0BXHaNr_g"
   },
   "source": [
    "## Instalación\n",
    "\n",
    "En este curso vamos a utilizar **Anaconda**, una distribución que ya viene con librarías instaladas y herramientas para facilitar su uso.\n",
    "Se puede descargar de [https://www.anaconda.com/download/](https://www.anaconda.com/download/). Seleccioná la versión que viene con Python 3.x y descargá el ejecutable."
   ]
  },
  {
   "cell_type": "markdown",
   "metadata": {
    "colab_type": "text",
    "id": "xUe8yQY0SO8Z"
   },
   "source": [
    "## Interfaces de Usuario\n",
    "\n",
    "### Jupyter Notebooks\n",
    "\n",
    "Los notebooks son documentos que contienen el código y el resultado de la ejecución del mismo en el mismo documento.\n",
    "\n",
    "### Spyder\n",
    "\n",
    "Esta es una IDE \"similar\" a RStudio.\n",
    "\n",
    "### iPython\n",
    "\n",
    "Herramienta por consola."
   ]
  },
  {
   "cell_type": "markdown",
   "metadata": {
    "colab_type": "text",
    "id": "O_0KWeEPWKK3"
   },
   "source": [
    "# Lenguaje\n",
    "\n",
    "## Comentarios\n",
    "\n",
    "Los comentarios de una sola línea van precedidos por el símbolo #"
   ]
  },
  {
   "cell_type": "code",
   "execution_count": 4,
   "metadata": {
    "colab": {
     "autoexec": {
      "startup": false,
      "wait_interval": 0
     }
    },
    "colab_type": "code",
    "id": "lmn5mgisWEQK"
   },
   "outputs": [],
   "source": [
    "#Esto es una comentario de una sola línea"
   ]
  },
  {
   "cell_type": "markdown",
   "metadata": {
    "colab_type": "text",
    "id": "FNuZxrHuXTVt"
   },
   "source": [
    "## Variables\n",
    "\n",
    "Python es un lenguaje débilmente tipado, por lo cual, no hace falta hacer explícito el tipo de variable, sólo asignarlas por medio del signo = "
   ]
  },
  {
   "cell_type": "code",
   "execution_count": 5,
   "metadata": {
    "colab": {
     "autoexec": {
      "startup": false,
      "wait_interval": 0
     }
    },
    "colab_type": "code",
    "id": "nFgM3ET5YMMG"
   },
   "outputs": [],
   "source": [
    "a = 10"
   ]
  },
  {
   "cell_type": "markdown",
   "metadata": {
    "colab_type": "text",
    "id": "_uhw40CoYPr-"
   },
   "source": [
    "También se pueden asignar varias variables en la misma línea separando las asignaciones por , en ambos lados del ="
   ]
  },
  {
   "cell_type": "code",
   "execution_count": 6,
   "metadata": {
    "colab": {
     "autoexec": {
      "startup": false,
      "wait_interval": 0
     },
     "base_uri": "https://localhost:8080/",
     "height": 34
    },
    "colab_type": "code",
    "executionInfo": {
     "elapsed": 793,
     "status": "ok",
     "timestamp": 1527795516482,
     "user": {
      "displayName": "Lucas Pogorelsky",
      "photoUrl": "//lh5.googleusercontent.com/-AWEbqdEpQhQ/AAAAAAAAAAI/AAAAAAAAB0M/2Tq1vxvgUYM/s50-c-k-no/photo.jpg",
      "userId": "115242583956541452992"
     },
     "user_tz": 180
    },
    "id": "nzSDy1w-Y9k6",
    "outputId": "0bf68633-34d7-44d4-971f-44ec7cf026a3"
   },
   "outputs": [
    {
     "data": {
      "text/plain": [
       "30.5"
      ]
     },
     "execution_count": 6,
     "metadata": {},
     "output_type": "execute_result"
    }
   ],
   "source": [
    "b,c,d = 30.5,'Death Parrot',True\n",
    "\n",
    "b"
   ]
  },
  {
   "cell_type": "code",
   "execution_count": 7,
   "metadata": {
    "colab": {
     "autoexec": {
      "startup": false,
      "wait_interval": 0
     },
     "base_uri": "https://localhost:8080/",
     "height": 34
    },
    "colab_type": "code",
    "executionInfo": {
     "elapsed": 831,
     "status": "ok",
     "timestamp": 1527795517855,
     "user": {
      "displayName": "Lucas Pogorelsky",
      "photoUrl": "//lh5.googleusercontent.com/-AWEbqdEpQhQ/AAAAAAAAAAI/AAAAAAAAB0M/2Tq1vxvgUYM/s50-c-k-no/photo.jpg",
      "userId": "115242583956541452992"
     },
     "user_tz": 180
    },
    "id": "lRBh0ZGgZbkN",
    "outputId": "d65691e3-cd5c-414a-f212-6963dde6a451"
   },
   "outputs": [
    {
     "data": {
      "text/plain": [
       "'Death Parrot'"
      ]
     },
     "execution_count": 7,
     "metadata": {},
     "output_type": "execute_result"
    }
   ],
   "source": [
    "c"
   ]
  },
  {
   "cell_type": "code",
   "execution_count": 8,
   "metadata": {
    "colab": {
     "autoexec": {
      "startup": false,
      "wait_interval": 0
     },
     "base_uri": "https://localhost:8080/",
     "height": 34
    },
    "colab_type": "code",
    "executionInfo": {
     "elapsed": 673,
     "status": "ok",
     "timestamp": 1527795519049,
     "user": {
      "displayName": "Lucas Pogorelsky",
      "photoUrl": "//lh5.googleusercontent.com/-AWEbqdEpQhQ/AAAAAAAAAAI/AAAAAAAAB0M/2Tq1vxvgUYM/s50-c-k-no/photo.jpg",
      "userId": "115242583956541452992"
     },
     "user_tz": 180
    },
    "id": "IyBpoGx6Zhhh",
    "outputId": "6ca77ac3-f291-49af-eb4d-f699b875ce17"
   },
   "outputs": [
    {
     "data": {
      "text/plain": [
       "True"
      ]
     },
     "execution_count": 8,
     "metadata": {},
     "output_type": "execute_result"
    }
   ],
   "source": [
    "d"
   ]
  },
  {
   "cell_type": "markdown",
   "metadata": {
    "colab_type": "text",
    "id": "qzPhEJbVZjy1"
   },
   "source": [
    "## Tipos de datos Primitivos\n",
    "\n",
    "### Números\n",
    "\n",
    "Enteros"
   ]
  },
  {
   "cell_type": "code",
   "execution_count": 9,
   "metadata": {
    "colab": {
     "autoexec": {
      "startup": false,
      "wait_interval": 0
     },
     "base_uri": "https://localhost:8080/",
     "height": 34
    },
    "colab_type": "code",
    "executionInfo": {
     "elapsed": 765,
     "status": "ok",
     "timestamp": 1527795521040,
     "user": {
      "displayName": "Lucas Pogorelsky",
      "photoUrl": "//lh5.googleusercontent.com/-AWEbqdEpQhQ/AAAAAAAAAAI/AAAAAAAAB0M/2Tq1vxvgUYM/s50-c-k-no/photo.jpg",
      "userId": "115242583956541452992"
     },
     "user_tz": 180
    },
    "id": "FTRPerjjZvk3",
    "outputId": "8e05ef74-f441-4ce5-bf3e-78b22b568df5"
   },
   "outputs": [
    {
     "data": {
      "text/plain": [
       "int"
      ]
     },
     "execution_count": 9,
     "metadata": {},
     "output_type": "execute_result"
    }
   ],
   "source": [
    "type(10)"
   ]
  },
  {
   "cell_type": "markdown",
   "metadata": {
    "colab_type": "text",
    "id": "kkkybYtoZ4xE"
   },
   "source": [
    "Decimales"
   ]
  },
  {
   "cell_type": "code",
   "execution_count": 1,
   "metadata": {
    "colab": {
     "autoexec": {
      "startup": false,
      "wait_interval": 0
     },
     "base_uri": "https://localhost:8080/",
     "height": 34
    },
    "colab_type": "code",
    "executionInfo": {
     "elapsed": 720,
     "status": "ok",
     "timestamp": 1527795522370,
     "user": {
      "displayName": "Lucas Pogorelsky",
      "photoUrl": "//lh5.googleusercontent.com/-AWEbqdEpQhQ/AAAAAAAAAAI/AAAAAAAAB0M/2Tq1vxvgUYM/s50-c-k-no/photo.jpg",
      "userId": "115242583956541452992"
     },
     "user_tz": 180
    },
    "id": "IHwmFd9-Z9Sg",
    "outputId": "d7c9150f-337d-4555-87f0-a97e4b687fab"
   },
   "outputs": [
    {
     "data": {
      "text/plain": [
       "float"
      ]
     },
     "execution_count": 1,
     "metadata": {},
     "output_type": "execute_result"
    }
   ],
   "source": [
    "type(10.5)\n"
   ]
  },
  {
   "cell_type": "markdown",
   "metadata": {
    "colab_type": "text",
    "id": "hzP0tWliaF82"
   },
   "source": [
    "### Texto"
   ]
  },
  {
   "cell_type": "code",
   "execution_count": 11,
   "metadata": {
    "colab": {
     "autoexec": {
      "startup": false,
      "wait_interval": 0
     },
     "base_uri": "https://localhost:8080/",
     "height": 34
    },
    "colab_type": "code",
    "executionInfo": {
     "elapsed": 789,
     "status": "ok",
     "timestamp": 1527795523824,
     "user": {
      "displayName": "Lucas Pogorelsky",
      "photoUrl": "//lh5.googleusercontent.com/-AWEbqdEpQhQ/AAAAAAAAAAI/AAAAAAAAB0M/2Tq1vxvgUYM/s50-c-k-no/photo.jpg",
      "userId": "115242583956541452992"
     },
     "user_tz": 180
    },
    "id": "EeQ1F3AkaQL3",
    "outputId": "5ae410f0-604c-47ef-9656-9779d2300fee"
   },
   "outputs": [
    {
     "data": {
      "text/plain": [
       "str"
      ]
     },
     "execution_count": 11,
     "metadata": {},
     "output_type": "execute_result"
    }
   ],
   "source": [
    "type(\"Los textos pueden ir entre comillas dobles...\")"
   ]
  },
  {
   "cell_type": "code",
   "execution_count": 12,
   "metadata": {
    "colab": {
     "autoexec": {
      "startup": false,
      "wait_interval": 0
     },
     "base_uri": "https://localhost:8080/",
     "height": 34
    },
    "colab_type": "code",
    "executionInfo": {
     "elapsed": 765,
     "status": "ok",
     "timestamp": 1527795525545,
     "user": {
      "displayName": "Lucas Pogorelsky",
      "photoUrl": "//lh5.googleusercontent.com/-AWEbqdEpQhQ/AAAAAAAAAAI/AAAAAAAAB0M/2Tq1vxvgUYM/s50-c-k-no/photo.jpg",
      "userId": "115242583956541452992"
     },
     "user_tz": 180
    },
    "id": "5DBy_yU1ak13",
    "outputId": "d024d7c5-47fb-4913-e661-29aa6aec83c7"
   },
   "outputs": [
    {
     "data": {
      "text/plain": [
       "str"
      ]
     },
     "execution_count": 12,
     "metadata": {},
     "output_type": "execute_result"
    }
   ],
   "source": [
    "type('...o entre comillas simples')"
   ]
  },
  {
   "cell_type": "markdown",
   "metadata": {
    "colab_type": "text",
    "id": "dxznn5xbawr3"
   },
   "source": [
    "### Booleans"
   ]
  },
  {
   "cell_type": "code",
   "execution_count": 13,
   "metadata": {
    "colab": {
     "autoexec": {
      "startup": false,
      "wait_interval": 0
     },
     "base_uri": "https://localhost:8080/",
     "height": 34
    },
    "colab_type": "code",
    "executionInfo": {
     "elapsed": 538,
     "status": "ok",
     "timestamp": 1527795526806,
     "user": {
      "displayName": "Lucas Pogorelsky",
      "photoUrl": "//lh5.googleusercontent.com/-AWEbqdEpQhQ/AAAAAAAAAAI/AAAAAAAAB0M/2Tq1vxvgUYM/s50-c-k-no/photo.jpg",
      "userId": "115242583956541452992"
     },
     "user_tz": 180
    },
    "id": "7S3PCQXZa13B",
    "outputId": "32608957-5f88-4b8c-a7ce-089368c44a0d"
   },
   "outputs": [
    {
     "data": {
      "text/plain": [
       "bool"
      ]
     },
     "execution_count": 13,
     "metadata": {},
     "output_type": "execute_result"
    }
   ],
   "source": [
    "type(True)"
   ]
  },
  {
   "cell_type": "code",
   "execution_count": 14,
   "metadata": {
    "colab": {
     "autoexec": {
      "startup": false,
      "wait_interval": 0
     },
     "base_uri": "https://localhost:8080/",
     "height": 34
    },
    "colab_type": "code",
    "executionInfo": {
     "elapsed": 898,
     "status": "ok",
     "timestamp": 1527795528488,
     "user": {
      "displayName": "Lucas Pogorelsky",
      "photoUrl": "//lh5.googleusercontent.com/-AWEbqdEpQhQ/AAAAAAAAAAI/AAAAAAAAB0M/2Tq1vxvgUYM/s50-c-k-no/photo.jpg",
      "userId": "115242583956541452992"
     },
     "user_tz": 180
    },
    "id": "sRXFJjmea2Cr",
    "outputId": "afd9813b-112a-4460-c6c2-d5ebd672d5ae"
   },
   "outputs": [
    {
     "data": {
      "text/plain": [
       "bool"
      ]
     },
     "execution_count": 14,
     "metadata": {},
     "output_type": "execute_result"
    }
   ],
   "source": [
    "type(False)"
   ]
  },
  {
   "cell_type": "markdown",
   "metadata": {
    "colab_type": "text",
    "id": "uw58biofbFty"
   },
   "source": [
    "## Operaciones Matemáticas\n",
    "\n",
    "Suma"
   ]
  },
  {
   "cell_type": "code",
   "execution_count": 15,
   "metadata": {
    "colab": {
     "autoexec": {
      "startup": false,
      "wait_interval": 0
     },
     "base_uri": "https://localhost:8080/",
     "height": 34
    },
    "colab_type": "code",
    "executionInfo": {
     "elapsed": 657,
     "status": "ok",
     "timestamp": 1527795530075,
     "user": {
      "displayName": "Lucas Pogorelsky",
      "photoUrl": "//lh5.googleusercontent.com/-AWEbqdEpQhQ/AAAAAAAAAAI/AAAAAAAAB0M/2Tq1vxvgUYM/s50-c-k-no/photo.jpg",
      "userId": "115242583956541452992"
     },
     "user_tz": 180
    },
    "id": "ZrPjXzQLcZFu",
    "outputId": "497b0285-fbd8-4060-b63a-c84735cb31af"
   },
   "outputs": [
    {
     "data": {
      "text/plain": [
       "15"
      ]
     },
     "execution_count": 15,
     "metadata": {},
     "output_type": "execute_result"
    }
   ],
   "source": [
    "10 + 5"
   ]
  },
  {
   "cell_type": "markdown",
   "metadata": {
    "colab_type": "text",
    "id": "_Wdj8dkdcdI2"
   },
   "source": [
    "Resta"
   ]
  },
  {
   "cell_type": "code",
   "execution_count": 16,
   "metadata": {
    "colab": {
     "autoexec": {
      "startup": false,
      "wait_interval": 0
     },
     "base_uri": "https://localhost:8080/",
     "height": 34
    },
    "colab_type": "code",
    "executionInfo": {
     "elapsed": 683,
     "status": "ok",
     "timestamp": 1527795531649,
     "user": {
      "displayName": "Lucas Pogorelsky",
      "photoUrl": "//lh5.googleusercontent.com/-AWEbqdEpQhQ/AAAAAAAAAAI/AAAAAAAAB0M/2Tq1vxvgUYM/s50-c-k-no/photo.jpg",
      "userId": "115242583956541452992"
     },
     "user_tz": 180
    },
    "id": "g6RBvtn8ccgh",
    "outputId": "e4aa363e-e4dc-4c31-c3b3-df0f72b71ff0"
   },
   "outputs": [
    {
     "data": {
      "text/plain": [
       "3"
      ]
     },
     "execution_count": 16,
     "metadata": {},
     "output_type": "execute_result"
    }
   ],
   "source": [
    "10 - 7"
   ]
  },
  {
   "cell_type": "markdown",
   "metadata": {
    "colab_type": "text",
    "id": "OL8jnwEIcjER"
   },
   "source": [
    "Multiplicación"
   ]
  },
  {
   "cell_type": "code",
   "execution_count": 17,
   "metadata": {
    "colab": {
     "autoexec": {
      "startup": false,
      "wait_interval": 0
     },
     "base_uri": "https://localhost:8080/",
     "height": 34
    },
    "colab_type": "code",
    "executionInfo": {
     "elapsed": 598,
     "status": "ok",
     "timestamp": 1527795532794,
     "user": {
      "displayName": "Lucas Pogorelsky",
      "photoUrl": "//lh5.googleusercontent.com/-AWEbqdEpQhQ/AAAAAAAAAAI/AAAAAAAAB0M/2Tq1vxvgUYM/s50-c-k-no/photo.jpg",
      "userId": "115242583956541452992"
     },
     "user_tz": 180
    },
    "id": "MQT8eUTtclTz",
    "outputId": "89dd52df-2598-4a1c-a6f1-652dcb8935dc"
   },
   "outputs": [
    {
     "data": {
      "text/plain": [
       "30"
      ]
     },
     "execution_count": 17,
     "metadata": {},
     "output_type": "execute_result"
    }
   ],
   "source": [
    "10 * 3"
   ]
  },
  {
   "cell_type": "markdown",
   "metadata": {
    "colab_type": "text",
    "id": "CAtJNKiJcom9"
   },
   "source": [
    "División"
   ]
  },
  {
   "cell_type": "code",
   "execution_count": 18,
   "metadata": {
    "colab": {
     "autoexec": {
      "startup": false,
      "wait_interval": 0
     },
     "base_uri": "https://localhost:8080/",
     "height": 34
    },
    "colab_type": "code",
    "executionInfo": {
     "elapsed": 566,
     "status": "ok",
     "timestamp": 1527795533881,
     "user": {
      "displayName": "Lucas Pogorelsky",
      "photoUrl": "//lh5.googleusercontent.com/-AWEbqdEpQhQ/AAAAAAAAAAI/AAAAAAAAB0M/2Tq1vxvgUYM/s50-c-k-no/photo.jpg",
      "userId": "115242583956541452992"
     },
     "user_tz": 180
    },
    "id": "tNFmobcTcrBz",
    "outputId": "db7aae2c-2fa8-4477-b619-2d26bd40d056"
   },
   "outputs": [
    {
     "data": {
      "text/plain": [
       "3.3333333333333335"
      ]
     },
     "execution_count": 18,
     "metadata": {},
     "output_type": "execute_result"
    }
   ],
   "source": [
    "10/3"
   ]
  },
  {
   "cell_type": "markdown",
   "metadata": {
    "colab_type": "text",
    "id": "ze64TC63cwSg"
   },
   "source": [
    "División entera (elimino los decimales)"
   ]
  },
  {
   "cell_type": "code",
   "execution_count": 19,
   "metadata": {
    "colab": {
     "autoexec": {
      "startup": false,
      "wait_interval": 0
     },
     "base_uri": "https://localhost:8080/",
     "height": 34
    },
    "colab_type": "code",
    "executionInfo": {
     "elapsed": 597,
     "status": "ok",
     "timestamp": 1527795534759,
     "user": {
      "displayName": "Lucas Pogorelsky",
      "photoUrl": "//lh5.googleusercontent.com/-AWEbqdEpQhQ/AAAAAAAAAAI/AAAAAAAAB0M/2Tq1vxvgUYM/s50-c-k-no/photo.jpg",
      "userId": "115242583956541452992"
     },
     "user_tz": 180
    },
    "id": "Z-i5qXlKc0wt",
    "outputId": "bb03e71f-7369-4690-a70d-9e791bac3070"
   },
   "outputs": [
    {
     "data": {
      "text/plain": [
       "3"
      ]
     },
     "execution_count": 19,
     "metadata": {},
     "output_type": "execute_result"
    }
   ],
   "source": [
    "10 // 3"
   ]
  },
  {
   "cell_type": "markdown",
   "metadata": {
    "colab_type": "text",
    "id": "bJHpEPtWc3Wu"
   },
   "source": [
    "Resto"
   ]
  },
  {
   "cell_type": "code",
   "execution_count": 20,
   "metadata": {
    "colab": {
     "autoexec": {
      "startup": false,
      "wait_interval": 0
     },
     "base_uri": "https://localhost:8080/",
     "height": 34
    },
    "colab_type": "code",
    "executionInfo": {
     "elapsed": 802,
     "status": "ok",
     "timestamp": 1527795536594,
     "user": {
      "displayName": "Lucas Pogorelsky",
      "photoUrl": "//lh5.googleusercontent.com/-AWEbqdEpQhQ/AAAAAAAAAAI/AAAAAAAAB0M/2Tq1vxvgUYM/s50-c-k-no/photo.jpg",
      "userId": "115242583956541452992"
     },
     "user_tz": 180
    },
    "id": "-rykbdlFc3ik",
    "outputId": "ae8fa6d9-307d-4e06-bd26-349d7db70b7a"
   },
   "outputs": [
    {
     "data": {
      "text/plain": [
       "1"
      ]
     },
     "execution_count": 20,
     "metadata": {},
     "output_type": "execute_result"
    }
   ],
   "source": [
    "10 % 3"
   ]
  },
  {
   "cell_type": "markdown",
   "metadata": {
    "colab_type": "text",
    "id": "9yZpoZi_kuhS"
   },
   "source": [
    "Potencia"
   ]
  },
  {
   "cell_type": "code",
   "execution_count": 21,
   "metadata": {
    "colab": {
     "autoexec": {
      "startup": false,
      "wait_interval": 0
     },
     "base_uri": "https://localhost:8080/",
     "height": 34
    },
    "colab_type": "code",
    "executionInfo": {
     "elapsed": 602,
     "status": "ok",
     "timestamp": 1527795538341,
     "user": {
      "displayName": "Lucas Pogorelsky",
      "photoUrl": "//lh5.googleusercontent.com/-AWEbqdEpQhQ/AAAAAAAAAAI/AAAAAAAAB0M/2Tq1vxvgUYM/s50-c-k-no/photo.jpg",
      "userId": "115242583956541452992"
     },
     "user_tz": 180
    },
    "id": "s96fduHDkw3E",
    "outputId": "086fc55f-a69e-44ea-876a-6a581c9e4591"
   },
   "outputs": [
    {
     "data": {
      "text/plain": [
       "16"
      ]
     },
     "execution_count": 21,
     "metadata": {},
     "output_type": "execute_result"
    }
   ],
   "source": [
    "4 ** 2"
   ]
  },
  {
   "cell_type": "markdown",
   "metadata": {
    "colab_type": "text",
    "id": "JD1kLxe1lUJr"
   },
   "source": [
    "## Lógica\n",
    "\n",
    "Igualdad"
   ]
  },
  {
   "cell_type": "code",
   "execution_count": 22,
   "metadata": {
    "colab": {
     "autoexec": {
      "startup": false,
      "wait_interval": 0
     },
     "base_uri": "https://localhost:8080/",
     "height": 34
    },
    "colab_type": "code",
    "executionInfo": {
     "elapsed": 701,
     "status": "ok",
     "timestamp": 1527795539821,
     "user": {
      "displayName": "Lucas Pogorelsky",
      "photoUrl": "//lh5.googleusercontent.com/-AWEbqdEpQhQ/AAAAAAAAAAI/AAAAAAAAB0M/2Tq1vxvgUYM/s50-c-k-no/photo.jpg",
      "userId": "115242583956541452992"
     },
     "user_tz": 180
    },
    "id": "6aLfGGZgmd-a",
    "outputId": "de4e0488-174c-46f2-eb3f-0def6b65d9e9"
   },
   "outputs": [
    {
     "data": {
      "text/plain": [
       "False"
      ]
     },
     "execution_count": 22,
     "metadata": {},
     "output_type": "execute_result"
    }
   ],
   "source": [
    "3 == 4"
   ]
  },
  {
   "cell_type": "markdown",
   "metadata": {
    "colab_type": "text",
    "id": "wwR4f1yMmjZF"
   },
   "source": [
    "Desigualdad"
   ]
  },
  {
   "cell_type": "code",
   "execution_count": 23,
   "metadata": {
    "colab": {
     "autoexec": {
      "startup": false,
      "wait_interval": 0
     },
     "base_uri": "https://localhost:8080/",
     "height": 34
    },
    "colab_type": "code",
    "executionInfo": {
     "elapsed": 651,
     "status": "ok",
     "timestamp": 1527795540928,
     "user": {
      "displayName": "Lucas Pogorelsky",
      "photoUrl": "//lh5.googleusercontent.com/-AWEbqdEpQhQ/AAAAAAAAAAI/AAAAAAAAB0M/2Tq1vxvgUYM/s50-c-k-no/photo.jpg",
      "userId": "115242583956541452992"
     },
     "user_tz": 180
    },
    "id": "yC1nsjq4mkl5",
    "outputId": "c5ec7562-1f89-4528-d16e-1f97da982441"
   },
   "outputs": [
    {
     "data": {
      "text/plain": [
       "True"
      ]
     },
     "execution_count": 23,
     "metadata": {},
     "output_type": "execute_result"
    }
   ],
   "source": [
    "3 != 4"
   ]
  },
  {
   "cell_type": "markdown",
   "metadata": {
    "colab_type": "text",
    "id": "dAEj2YMNmwxv"
   },
   "source": [
    "Menor a"
   ]
  },
  {
   "cell_type": "code",
   "execution_count": 24,
   "metadata": {
    "colab": {
     "autoexec": {
      "startup": false,
      "wait_interval": 0
     },
     "base_uri": "https://localhost:8080/",
     "height": 34
    },
    "colab_type": "code",
    "executionInfo": {
     "elapsed": 1225,
     "status": "ok",
     "timestamp": 1527795543532,
     "user": {
      "displayName": "Lucas Pogorelsky",
      "photoUrl": "//lh5.googleusercontent.com/-AWEbqdEpQhQ/AAAAAAAAAAI/AAAAAAAAB0M/2Tq1vxvgUYM/s50-c-k-no/photo.jpg",
      "userId": "115242583956541452992"
     },
     "user_tz": 180
    },
    "id": "u1yu6Dh6myX0",
    "outputId": "f12d0e37-381e-4a9f-ada0-13fe5e587a2a"
   },
   "outputs": [
    {
     "data": {
      "text/plain": [
       "True"
      ]
     },
     "execution_count": 24,
     "metadata": {},
     "output_type": "execute_result"
    }
   ],
   "source": [
    "3 < 4"
   ]
  },
  {
   "cell_type": "markdown",
   "metadata": {
    "colab_type": "text",
    "id": "FsOblKjamyjB"
   },
   "source": [
    "Menor o igual a"
   ]
  },
  {
   "cell_type": "code",
   "execution_count": 25,
   "metadata": {
    "colab": {
     "autoexec": {
      "startup": false,
      "wait_interval": 0
     },
     "base_uri": "https://localhost:8080/",
     "height": 34
    },
    "colab_type": "code",
    "executionInfo": {
     "elapsed": 539,
     "status": "ok",
     "timestamp": 1527795544305,
     "user": {
      "displayName": "Lucas Pogorelsky",
      "photoUrl": "//lh5.googleusercontent.com/-AWEbqdEpQhQ/AAAAAAAAAAI/AAAAAAAAB0M/2Tq1vxvgUYM/s50-c-k-no/photo.jpg",
      "userId": "115242583956541452992"
     },
     "user_tz": 180
    },
    "id": "7pcGYg52mysa",
    "outputId": "b003b706-682d-4bbd-d857-02321ce7502b"
   },
   "outputs": [
    {
     "data": {
      "text/plain": [
       "True"
      ]
     },
     "execution_count": 25,
     "metadata": {},
     "output_type": "execute_result"
    }
   ],
   "source": [
    "3 <= 4"
   ]
  },
  {
   "cell_type": "markdown",
   "metadata": {
    "colab_type": "text",
    "id": "cHVI37vDmy1o"
   },
   "source": [
    "Mayor a"
   ]
  },
  {
   "cell_type": "code",
   "execution_count": 26,
   "metadata": {
    "colab": {
     "autoexec": {
      "startup": false,
      "wait_interval": 0
     },
     "base_uri": "https://localhost:8080/",
     "height": 34
    },
    "colab_type": "code",
    "executionInfo": {
     "elapsed": 554,
     "status": "ok",
     "timestamp": 1527795545429,
     "user": {
      "displayName": "Lucas Pogorelsky",
      "photoUrl": "//lh5.googleusercontent.com/-AWEbqdEpQhQ/AAAAAAAAAAI/AAAAAAAAB0M/2Tq1vxvgUYM/s50-c-k-no/photo.jpg",
      "userId": "115242583956541452992"
     },
     "user_tz": 180
    },
    "id": "gKISSkNEmy-p",
    "outputId": "96bc9a52-8d52-46f4-bd34-b5824615b811"
   },
   "outputs": [
    {
     "data": {
      "text/plain": [
       "False"
      ]
     },
     "execution_count": 26,
     "metadata": {},
     "output_type": "execute_result"
    }
   ],
   "source": [
    "3 > 4"
   ]
  },
  {
   "cell_type": "markdown",
   "metadata": {
    "colab_type": "text",
    "id": "FarSKcyCmzH6"
   },
   "source": [
    "Mayor o igual a"
   ]
  },
  {
   "cell_type": "code",
   "execution_count": 27,
   "metadata": {
    "colab": {
     "autoexec": {
      "startup": false,
      "wait_interval": 0
     },
     "base_uri": "https://localhost:8080/",
     "height": 34
    },
    "colab_type": "code",
    "executionInfo": {
     "elapsed": 573,
     "status": "ok",
     "timestamp": 1527795546307,
     "user": {
      "displayName": "Lucas Pogorelsky",
      "photoUrl": "//lh5.googleusercontent.com/-AWEbqdEpQhQ/AAAAAAAAAAI/AAAAAAAAB0M/2Tq1vxvgUYM/s50-c-k-no/photo.jpg",
      "userId": "115242583956541452992"
     },
     "user_tz": 180
    },
    "id": "2gVpS-GemzRK",
    "outputId": "2a2af7c3-fa1e-4076-f4e2-b039cc3a1ecf"
   },
   "outputs": [
    {
     "data": {
      "text/plain": [
       "False"
      ]
     },
     "execution_count": 27,
     "metadata": {},
     "output_type": "execute_result"
    }
   ],
   "source": [
    "3 >= 4"
   ]
  },
  {
   "cell_type": "markdown",
   "metadata": {
    "colab_type": "text",
    "id": "YnskfrNjmzaR"
   },
   "source": [
    "Negación"
   ]
  },
  {
   "cell_type": "code",
   "execution_count": 28,
   "metadata": {
    "colab": {
     "autoexec": {
      "startup": false,
      "wait_interval": 0
     },
     "base_uri": "https://localhost:8080/",
     "height": 34
    },
    "colab_type": "code",
    "executionInfo": {
     "elapsed": 557,
     "status": "ok",
     "timestamp": 1527795547145,
     "user": {
      "displayName": "Lucas Pogorelsky",
      "photoUrl": "//lh5.googleusercontent.com/-AWEbqdEpQhQ/AAAAAAAAAAI/AAAAAAAAB0M/2Tq1vxvgUYM/s50-c-k-no/photo.jpg",
      "userId": "115242583956541452992"
     },
     "user_tz": 180
    },
    "id": "byEw1LPSlYw9",
    "outputId": "5039f7ef-db1a-4a1c-a2a3-8afd0d3ba031"
   },
   "outputs": [
    {
     "data": {
      "text/plain": [
       "True"
      ]
     },
     "execution_count": 28,
     "metadata": {},
     "output_type": "execute_result"
    }
   ],
   "source": [
    "not False"
   ]
  },
  {
   "cell_type": "code",
   "execution_count": 29,
   "metadata": {
    "colab": {
     "autoexec": {
      "startup": false,
      "wait_interval": 0
     },
     "base_uri": "https://localhost:8080/",
     "height": 34
    },
    "colab_type": "code",
    "executionInfo": {
     "elapsed": 767,
     "status": "ok",
     "timestamp": 1527795548165,
     "user": {
      "displayName": "Lucas Pogorelsky",
      "photoUrl": "//lh5.googleusercontent.com/-AWEbqdEpQhQ/AAAAAAAAAAI/AAAAAAAAB0M/2Tq1vxvgUYM/s50-c-k-no/photo.jpg",
      "userId": "115242583956541452992"
     },
     "user_tz": 180
    },
    "id": "bghyCE4clans",
    "outputId": "26b52354-4aa4-4b58-a36e-4180236dc930"
   },
   "outputs": [
    {
     "data": {
      "text/plain": [
       "False"
      ]
     },
     "execution_count": 29,
     "metadata": {},
     "output_type": "execute_result"
    }
   ],
   "source": [
    "not (\"Hola\"=='Hola')"
   ]
  },
  {
   "cell_type": "markdown",
   "metadata": {
    "colab_type": "text",
    "id": "5kN-JSzjlghC"
   },
   "source": [
    "Conjunción"
   ]
  },
  {
   "cell_type": "code",
   "execution_count": 30,
   "metadata": {
    "colab": {
     "autoexec": {
      "startup": false,
      "wait_interval": 0
     },
     "base_uri": "https://localhost:8080/",
     "height": 34
    },
    "colab_type": "code",
    "executionInfo": {
     "elapsed": 564,
     "status": "ok",
     "timestamp": 1527795549080,
     "user": {
      "displayName": "Lucas Pogorelsky",
      "photoUrl": "//lh5.googleusercontent.com/-AWEbqdEpQhQ/AAAAAAAAAAI/AAAAAAAAB0M/2Tq1vxvgUYM/s50-c-k-no/photo.jpg",
      "userId": "115242583956541452992"
     },
     "user_tz": 180
    },
    "id": "3YGQCQ9vpPf8",
    "outputId": "c1175182-3c48-4615-8959-3e3ec98f2bdd"
   },
   "outputs": [
    {
     "data": {
      "text/plain": [
       "True"
      ]
     },
     "execution_count": 30,
     "metadata": {},
     "output_type": "execute_result"
    }
   ],
   "source": [
    "a = 1\n",
    "b = 2\n",
    "\n",
    "a == 1 and b > a"
   ]
  },
  {
   "cell_type": "markdown",
   "metadata": {
    "colab_type": "text",
    "id": "LiWAUg3OSZKz"
   },
   "source": [
    "Disyunción"
   ]
  },
  {
   "cell_type": "code",
   "execution_count": 31,
   "metadata": {
    "colab": {
     "autoexec": {
      "startup": false,
      "wait_interval": 0
     },
     "base_uri": "https://localhost:8080/",
     "height": 34
    },
    "colab_type": "code",
    "executionInfo": {
     "elapsed": 557,
     "status": "ok",
     "timestamp": 1527795549935,
     "user": {
      "displayName": "Lucas Pogorelsky",
      "photoUrl": "//lh5.googleusercontent.com/-AWEbqdEpQhQ/AAAAAAAAAAI/AAAAAAAAB0M/2Tq1vxvgUYM/s50-c-k-no/photo.jpg",
      "userId": "115242583956541452992"
     },
     "user_tz": 180
    },
    "id": "WScFBOKYSby5",
    "outputId": "76aad935-d839-4988-d8bf-27ee02b6d937"
   },
   "outputs": [
    {
     "data": {
      "text/plain": [
       "True"
      ]
     },
     "execution_count": 31,
     "metadata": {},
     "output_type": "execute_result"
    }
   ],
   "source": [
    "3 > 4 or 3 >2"
   ]
  },
  {
   "cell_type": "markdown",
   "metadata": {
    "colab_type": "text",
    "id": "7jQS-a2sZ8bv"
   },
   "source": [
    "## Estructuras de Datos\n",
    "\n",
    "### Listas\n",
    "\n",
    "Las listas son contenedores que contienen diferentes objetos y se crean utilizando corchetes"
   ]
  },
  {
   "cell_type": "code",
   "execution_count": 57,
   "metadata": {
    "colab": {
     "autoexec": {
      "startup": false,
      "wait_interval": 0
     },
     "base_uri": "https://localhost:8080/",
     "height": 34
    },
    "colab_type": "code",
    "executionInfo": {
     "elapsed": 558,
     "status": "ok",
     "timestamp": 1527795550799,
     "user": {
      "displayName": "Lucas Pogorelsky",
      "photoUrl": "//lh5.googleusercontent.com/-AWEbqdEpQhQ/AAAAAAAAAAI/AAAAAAAAB0M/2Tq1vxvgUYM/s50-c-k-no/photo.jpg",
      "userId": "115242583956541452992"
     },
     "user_tz": 180
    },
    "id": "bwfp_USyaJFc",
    "outputId": "bf320230-4147-4b62-d0ac-9860089dab2e"
   },
   "outputs": [
    {
     "data": {
      "text/plain": [
       "[1, 2, 3, 'Las listas pueden contener strings', ['y también', 'otras listas']]"
      ]
     },
     "execution_count": 57,
     "metadata": {},
     "output_type": "execute_result"
    }
   ],
   "source": [
    "lista = [1,2,3,'Las listas pueden contener strings',['y también','otras listas']]\n",
    "\n",
    "lista"
   ]
  },
  {
   "cell_type": "markdown",
   "metadata": {
    "colab_type": "text",
    "id": "STQS-7n-6YFp"
   },
   "source": [
    "#### Tamaño de la lista\n"
   ]
  },
  {
   "cell_type": "code",
   "execution_count": 58,
   "metadata": {
    "colab": {
     "autoexec": {
      "startup": false,
      "wait_interval": 0
     },
     "base_uri": "https://localhost:8080/",
     "height": 34
    },
    "colab_type": "code",
    "executionInfo": {
     "elapsed": 585,
     "status": "ok",
     "timestamp": 1527795551668,
     "user": {
      "displayName": "Lucas Pogorelsky",
      "photoUrl": "//lh5.googleusercontent.com/-AWEbqdEpQhQ/AAAAAAAAAAI/AAAAAAAAB0M/2Tq1vxvgUYM/s50-c-k-no/photo.jpg",
      "userId": "115242583956541452992"
     },
     "user_tz": 180
    },
    "id": "hQPUwW_m6e8H",
    "outputId": "463a5d8e-9b47-489a-81fd-0e71927477ea"
   },
   "outputs": [
    {
     "data": {
      "text/plain": [
       "5"
      ]
     },
     "execution_count": 58,
     "metadata": {},
     "output_type": "execute_result"
    }
   ],
   "source": [
    "len(lista)"
   ]
  },
  {
   "cell_type": "markdown",
   "metadata": {
    "colab_type": "text",
    "id": "tE9wAlKjbIwX"
   },
   "source": [
    "#### Seleccionar elementos\n",
    "\n",
    "Los índices en python comienzan en 0, por lo tanto para seleccionar n-ésimo elemento, se debe poner entre corchetes el número (n-1)"
   ]
  },
  {
   "cell_type": "code",
   "execution_count": 59,
   "metadata": {
    "colab": {
     "autoexec": {
      "startup": false,
      "wait_interval": 0
     },
     "base_uri": "https://localhost:8080/",
     "height": 34
    },
    "colab_type": "code",
    "executionInfo": {
     "elapsed": 776,
     "status": "ok",
     "timestamp": 1527795552906,
     "user": {
      "displayName": "Lucas Pogorelsky",
      "photoUrl": "//lh5.googleusercontent.com/-AWEbqdEpQhQ/AAAAAAAAAAI/AAAAAAAAB0M/2Tq1vxvgUYM/s50-c-k-no/photo.jpg",
      "userId": "115242583956541452992"
     },
     "user_tz": 180
    },
    "id": "8U2P8AX9bbsm",
    "outputId": "48cfb731-b5c6-4be9-fee9-6db58944af71"
   },
   "outputs": [
    {
     "data": {
      "text/plain": [
       "2"
      ]
     },
     "execution_count": 59,
     "metadata": {},
     "output_type": "execute_result"
    }
   ],
   "source": [
    "lista[1]"
   ]
  },
  {
   "cell_type": "markdown",
   "metadata": {
    "colab_type": "text",
    "id": "ACDDaqf2bgzC"
   },
   "source": [
    "Como vemos, al poner 1, se selecciona el segundo elemento.\n",
    "\n",
    "Si quiero seleccionar más de un elemento, debo poner un *slice*. Los slices me indican el rango de elementos que voy a seleccionar, separando por : los límites de la selección.\n",
    "\n",
    "El límite inferior está incluido, mientras que el superior no."
   ]
  },
  {
   "cell_type": "code",
   "execution_count": 35,
   "metadata": {
    "colab": {
     "autoexec": {
      "startup": false,
      "wait_interval": 0
     },
     "base_uri": "https://localhost:8080/",
     "height": 34
    },
    "colab_type": "code",
    "executionInfo": {
     "elapsed": 1542,
     "status": "ok",
     "timestamp": 1527795555392,
     "user": {
      "displayName": "Lucas Pogorelsky",
      "photoUrl": "//lh5.googleusercontent.com/-AWEbqdEpQhQ/AAAAAAAAAAI/AAAAAAAAB0M/2Tq1vxvgUYM/s50-c-k-no/photo.jpg",
      "userId": "115242583956541452992"
     },
     "user_tz": 180
    },
    "id": "ns99Oes2buVJ",
    "outputId": "901b116e-6235-4b45-c01f-e5697e585a6c"
   },
   "outputs": [
    {
     "data": {
      "text/plain": [
       "[3, 'Las listas pueden contener strings']"
      ]
     },
     "execution_count": 35,
     "metadata": {},
     "output_type": "execute_result"
    }
   ],
   "source": [
    "lista[2:4]"
   ]
  },
  {
   "cell_type": "markdown",
   "metadata": {
    "colab_type": "text",
    "id": "MX8_6qaPcfTV"
   },
   "source": [
    "Si quiero todos los elementos a partir de un índice dejo en blanco a la derecha de :"
   ]
  },
  {
   "cell_type": "code",
   "execution_count": 36,
   "metadata": {
    "colab": {
     "autoexec": {
      "startup": false,
      "wait_interval": 0
     },
     "base_uri": "https://localhost:8080/",
     "height": 34
    },
    "colab_type": "code",
    "executionInfo": {
     "elapsed": 556,
     "status": "ok",
     "timestamp": 1527795562996,
     "user": {
      "displayName": "Lucas Pogorelsky",
      "photoUrl": "//lh5.googleusercontent.com/-AWEbqdEpQhQ/AAAAAAAAAAI/AAAAAAAAB0M/2Tq1vxvgUYM/s50-c-k-no/photo.jpg",
      "userId": "115242583956541452992"
     },
     "user_tz": 180
    },
    "id": "NB5ghVGzcnl1",
    "outputId": "68bb612e-1c57-4ebc-8d5b-d7b787761272"
   },
   "outputs": [
    {
     "data": {
      "text/plain": [
       "['Las listas pueden contener strings', ['y también', 'otras listas']]"
      ]
     },
     "execution_count": 36,
     "metadata": {},
     "output_type": "execute_result"
    }
   ],
   "source": [
    "lista[3:]"
   ]
  },
  {
   "cell_type": "markdown",
   "metadata": {
    "colab_type": "text",
    "id": "0udaj8UfcrWA"
   },
   "source": [
    "Si quiero todos los elementos hasta cierto índice, dejo en blanco a la izquierda de : y a la derecha escribo el índice siguiente"
   ]
  },
  {
   "cell_type": "code",
   "execution_count": 37,
   "metadata": {
    "colab": {
     "autoexec": {
      "startup": false,
      "wait_interval": 0
     },
     "base_uri": "https://localhost:8080/",
     "height": 34
    },
    "colab_type": "code",
    "executionInfo": {
     "elapsed": 553,
     "status": "ok",
     "timestamp": 1527795563836,
     "user": {
      "displayName": "Lucas Pogorelsky",
      "photoUrl": "//lh5.googleusercontent.com/-AWEbqdEpQhQ/AAAAAAAAAAI/AAAAAAAAB0M/2Tq1vxvgUYM/s50-c-k-no/photo.jpg",
      "userId": "115242583956541452992"
     },
     "user_tz": 180
    },
    "id": "vPwP3Tqdc0jI",
    "outputId": "fa4b0d2a-fb63-465c-83cc-d90e79923dfb"
   },
   "outputs": [
    {
     "data": {
      "text/plain": [
       "[1, 2, 3]"
      ]
     },
     "execution_count": 37,
     "metadata": {},
     "output_type": "execute_result"
    }
   ],
   "source": [
    "lista[:3]"
   ]
  },
  {
   "cell_type": "markdown",
   "metadata": {
    "colab_type": "text",
    "id": "9J_o8rlmdAd3"
   },
   "source": [
    "Puedo indicar elementos desde el último poniendo los índices en signo negativo, correspondiéndole al último elemento el índice -1"
   ]
  },
  {
   "cell_type": "code",
   "execution_count": 38,
   "metadata": {
    "colab": {
     "autoexec": {
      "startup": false,
      "wait_interval": 0
     },
     "base_uri": "https://localhost:8080/",
     "height": 34
    },
    "colab_type": "code",
    "executionInfo": {
     "elapsed": 1153,
     "status": "ok",
     "timestamp": 1527795565387,
     "user": {
      "displayName": "Lucas Pogorelsky",
      "photoUrl": "//lh5.googleusercontent.com/-AWEbqdEpQhQ/AAAAAAAAAAI/AAAAAAAAB0M/2Tq1vxvgUYM/s50-c-k-no/photo.jpg",
      "userId": "115242583956541452992"
     },
     "user_tz": 180
    },
    "id": "22qRs_41dR0a",
    "outputId": "bf1f1aa1-fc34-43e1-8411-781c14241bd6"
   },
   "outputs": [
    {
     "data": {
      "text/plain": [
       "['y también', 'otras listas']"
      ]
     },
     "execution_count": 38,
     "metadata": {},
     "output_type": "execute_result"
    }
   ],
   "source": [
    "lista[-1]"
   ]
  },
  {
   "cell_type": "code",
   "execution_count": 39,
   "metadata": {
    "colab": {
     "autoexec": {
      "startup": false,
      "wait_interval": 0
     },
     "base_uri": "https://localhost:8080/",
     "height": 34
    },
    "colab_type": "code",
    "executionInfo": {
     "elapsed": 590,
     "status": "ok",
     "timestamp": 1527795566268,
     "user": {
      "displayName": "Lucas Pogorelsky",
      "photoUrl": "//lh5.googleusercontent.com/-AWEbqdEpQhQ/AAAAAAAAAAI/AAAAAAAAB0M/2Tq1vxvgUYM/s50-c-k-no/photo.jpg",
      "userId": "115242583956541452992"
     },
     "user_tz": 180
    },
    "id": "uv4sPXaqdUBJ",
    "outputId": "9927797d-9d61-44fd-e62e-7a726c339872"
   },
   "outputs": [
    {
     "data": {
      "text/plain": [
       "'Las listas pueden contener strings'"
      ]
     },
     "execution_count": 39,
     "metadata": {},
     "output_type": "execute_result"
    }
   ],
   "source": [
    "lista[-2]"
   ]
  },
  {
   "cell_type": "code",
   "execution_count": 40,
   "metadata": {
    "colab": {
     "autoexec": {
      "startup": false,
      "wait_interval": 0
     },
     "base_uri": "https://localhost:8080/",
     "height": 34
    },
    "colab_type": "code",
    "executionInfo": {
     "elapsed": 586,
     "status": "ok",
     "timestamp": 1527795567167,
     "user": {
      "displayName": "Lucas Pogorelsky",
      "photoUrl": "//lh5.googleusercontent.com/-AWEbqdEpQhQ/AAAAAAAAAAI/AAAAAAAAB0M/2Tq1vxvgUYM/s50-c-k-no/photo.jpg",
      "userId": "115242583956541452992"
     },
     "user_tz": 180
    },
    "id": "SDgeF5YedT_L",
    "outputId": "d0f64191-5369-4024-ee0b-bbd038e3d649"
   },
   "outputs": [
    {
     "data": {
      "text/plain": [
       "[3, 'Las listas pueden contener strings']"
      ]
     },
     "execution_count": 40,
     "metadata": {},
     "output_type": "execute_result"
    }
   ],
   "source": [
    "lista[-3:-1]"
   ]
  },
  {
   "cell_type": "markdown",
   "metadata": {
    "colab_type": "text",
    "id": "OifRbFdXeDFf"
   },
   "source": [
    "Si quiero cambiar el orden de la lista, agrego un nuevo : en el slicing y pongo -1"
   ]
  },
  {
   "cell_type": "code",
   "execution_count": 41,
   "metadata": {
    "colab": {
     "autoexec": {
      "startup": false,
      "wait_interval": 0
     },
     "base_uri": "https://localhost:8080/",
     "height": 34
    },
    "colab_type": "code",
    "executionInfo": {
     "elapsed": 574,
     "status": "ok",
     "timestamp": 1527795568051,
     "user": {
      "displayName": "Lucas Pogorelsky",
      "photoUrl": "//lh5.googleusercontent.com/-AWEbqdEpQhQ/AAAAAAAAAAI/AAAAAAAAB0M/2Tq1vxvgUYM/s50-c-k-no/photo.jpg",
      "userId": "115242583956541452992"
     },
     "user_tz": 180
    },
    "id": "CxHnnuEXdw4C",
    "outputId": "d4fbf584-b9bb-4be7-bd17-10f126283c5e"
   },
   "outputs": [
    {
     "data": {
      "text/plain": [
       "['Las listas pueden contener strings', 3, 2]"
      ]
     },
     "execution_count": 41,
     "metadata": {},
     "output_type": "execute_result"
    }
   ],
   "source": [
    "lista[3:0:-1]"
   ]
  },
  {
   "cell_type": "markdown",
   "metadata": {
    "colab_type": "text",
    "id": "C67AdAA0eWJx"
   },
   "source": [
    "Lo cual también sirve para saltear elementos"
   ]
  },
  {
   "cell_type": "code",
   "execution_count": 42,
   "metadata": {
    "colab": {
     "autoexec": {
      "startup": false,
      "wait_interval": 0
     },
     "base_uri": "https://localhost:8080/",
     "height": 34
    },
    "colab_type": "code",
    "executionInfo": {
     "elapsed": 589,
     "status": "ok",
     "timestamp": 1527795569127,
     "user": {
      "displayName": "Lucas Pogorelsky",
      "photoUrl": "//lh5.googleusercontent.com/-AWEbqdEpQhQ/AAAAAAAAAAI/AAAAAAAAB0M/2Tq1vxvgUYM/s50-c-k-no/photo.jpg",
      "userId": "115242583956541452992"
     },
     "user_tz": 180
    },
    "id": "KtTeMpZWeZD5",
    "outputId": "fa58bed1-6cc2-4bbe-ae1f-a61944fa2042"
   },
   "outputs": [
    {
     "data": {
      "text/plain": [
       "[1, 3, ['y también', 'otras listas']]"
      ]
     },
     "execution_count": 42,
     "metadata": {},
     "output_type": "execute_result"
    }
   ],
   "source": [
    "lista[::2]"
   ]
  },
  {
   "cell_type": "markdown",
   "metadata": {
    "colab_type": "text",
    "id": "bc1uKMS-t6I8"
   },
   "source": [
    "#### Buscar elementos"
   ]
  },
  {
   "cell_type": "code",
   "execution_count": 60,
   "metadata": {
    "colab": {
     "autoexec": {
      "startup": false,
      "wait_interval": 0
     },
     "base_uri": "https://localhost:8080/",
     "height": 34
    },
    "colab_type": "code",
    "executionInfo": {
     "elapsed": 571,
     "status": "ok",
     "timestamp": 1527795570094,
     "user": {
      "displayName": "Lucas Pogorelsky",
      "photoUrl": "//lh5.googleusercontent.com/-AWEbqdEpQhQ/AAAAAAAAAAI/AAAAAAAAB0M/2Tq1vxvgUYM/s50-c-k-no/photo.jpg",
      "userId": "115242583956541452992"
     },
     "user_tz": 180
    },
    "id": "maAKeNCiRQ2p",
    "outputId": "8f627a64-b69b-4f73-ed0d-643017cecdf8"
   },
   "outputs": [
    {
     "data": {
      "text/plain": [
       "[1, 2, 3, 'Las listas pueden contener strings', ['y también', 'otras listas']]"
      ]
     },
     "execution_count": 60,
     "metadata": {},
     "output_type": "execute_result"
    }
   ],
   "source": [
    "lista"
   ]
  },
  {
   "cell_type": "markdown",
   "metadata": {
    "colab_type": "text",
    "id": "yARjJInFRynY"
   },
   "source": [
    "Traer el índice del primer elemento que coincida con algo que buscamos"
   ]
  },
  {
   "cell_type": "code",
   "execution_count": 19,
   "metadata": {
    "colab": {
     "autoexec": {
      "startup": false,
      "wait_interval": 0
     },
     "base_uri": "https://localhost:8080/",
     "height": 34
    },
    "colab_type": "code",
    "executionInfo": {
     "elapsed": 547,
     "status": "ok",
     "timestamp": 1527795571574,
     "user": {
      "displayName": "Lucas Pogorelsky",
      "photoUrl": "//lh5.googleusercontent.com/-AWEbqdEpQhQ/AAAAAAAAAAI/AAAAAAAAB0M/2Tq1vxvgUYM/s50-c-k-no/photo.jpg",
      "userId": "115242583956541452992"
     },
     "user_tz": 180
    },
    "id": "7nwpf6DcuNvw",
    "outputId": "f79c8d78-aab8-4a98-b303-437a26a4e9cf"
   },
   "outputs": [
    {
     "data": {
      "text/plain": [
       "1"
      ]
     },
     "execution_count": 19,
     "metadata": {},
     "output_type": "execute_result"
    }
   ],
   "source": [
    "lista.index(3)"
   ]
  },
  {
   "cell_type": "code",
   "execution_count": 61,
   "metadata": {
    "colab": {
     "autoexec": {
      "startup": false,
      "wait_interval": 0
     },
     "base_uri": "https://localhost:8080/",
     "height": 163
    },
    "colab_type": "code",
    "executionInfo": {
     "elapsed": 575,
     "status": "error",
     "timestamp": 1527795572397,
     "user": {
      "displayName": "Lucas Pogorelsky",
      "photoUrl": "//lh5.googleusercontent.com/-AWEbqdEpQhQ/AAAAAAAAAAI/AAAAAAAAB0M/2Tq1vxvgUYM/s50-c-k-no/photo.jpg",
      "userId": "115242583956541452992"
     },
     "user_tz": 180
    },
    "id": "3rnKiPiARTwA",
    "outputId": "79bf84ce-fea0-46a0-b01c-2f960bb5765f"
   },
   "outputs": [
    {
     "ename": "ValueError",
     "evalue": "4 is not in list",
     "output_type": "error",
     "traceback": [
      "\u001b[1;31m---------------------------------------------------------------------------\u001b[0m",
      "\u001b[1;31mValueError\u001b[0m                                Traceback (most recent call last)",
      "\u001b[1;32m<ipython-input-61-25f8ed480b4d>\u001b[0m in \u001b[0;36m<module>\u001b[1;34m\u001b[0m\n\u001b[1;32m----> 1\u001b[1;33m \u001b[0mlista\u001b[0m\u001b[1;33m.\u001b[0m\u001b[0mindex\u001b[0m\u001b[1;33m(\u001b[0m\u001b[1;36m4\u001b[0m\u001b[1;33m)\u001b[0m\u001b[1;33m\u001b[0m\u001b[1;33m\u001b[0m\u001b[0m\n\u001b[0m",
      "\u001b[1;31mValueError\u001b[0m: 4 is not in list"
     ]
    }
   ],
   "source": [
    "lista.index(4)"
   ]
  },
  {
   "cell_type": "markdown",
   "metadata": {
    "colab_type": "text",
    "id": "8EA902dSR0no"
   },
   "source": [
    "Comprobar si un elemento está en la lista"
   ]
  },
  {
   "cell_type": "code",
   "execution_count": 8,
   "metadata": {
    "colab": {
     "autoexec": {
      "startup": false,
      "wait_interval": 0
     },
     "base_uri": "https://localhost:8080/",
     "height": 34
    },
    "colab_type": "code",
    "executionInfo": {
     "elapsed": 664,
     "status": "ok",
     "timestamp": 1527790295169,
     "user": {
      "displayName": "Lucas Pogorelsky",
      "photoUrl": "//lh5.googleusercontent.com/-AWEbqdEpQhQ/AAAAAAAAAAI/AAAAAAAAB0M/2Tq1vxvgUYM/s50-c-k-no/photo.jpg",
      "userId": "115242583956541452992"
     },
     "user_tz": 180
    },
    "id": "ozbboOUfR3WF",
    "outputId": "01f0d3e2-e1d7-4f2a-f35b-be021b9a5302"
   },
   "outputs": [
    {
     "data": {
      "text/plain": [
       "True"
      ]
     },
     "execution_count": 8,
     "metadata": {},
     "output_type": "execute_result"
    }
   ],
   "source": [
    "3 in lista"
   ]
  },
  {
   "cell_type": "code",
   "execution_count": 9,
   "metadata": {
    "colab": {
     "autoexec": {
      "startup": false,
      "wait_interval": 0
     },
     "base_uri": "https://localhost:8080/",
     "height": 34
    },
    "colab_type": "code",
    "executionInfo": {
     "elapsed": 629,
     "status": "ok",
     "timestamp": 1527790296663,
     "user": {
      "displayName": "Lucas Pogorelsky",
      "photoUrl": "//lh5.googleusercontent.com/-AWEbqdEpQhQ/AAAAAAAAAAI/AAAAAAAAB0M/2Tq1vxvgUYM/s50-c-k-no/photo.jpg",
      "userId": "115242583956541452992"
     },
     "user_tz": 180
    },
    "id": "WGOv4ToPR4XC",
    "outputId": "42a7631b-665b-47c4-a13e-183d11b5ab13"
   },
   "outputs": [
    {
     "data": {
      "text/plain": [
       "False"
      ]
     },
     "execution_count": 9,
     "metadata": {},
     "output_type": "execute_result"
    }
   ],
   "source": [
    "4 in lista"
   ]
  },
  {
   "cell_type": "markdown",
   "metadata": {
    "colab_type": "text",
    "id": "VOLDHrmwY95l"
   },
   "source": [
    "#### Modificar elementos"
   ]
  },
  {
   "cell_type": "code",
   "execution_count": 42,
   "metadata": {
    "colab": {
     "autoexec": {
      "startup": false,
      "wait_interval": 0
     },
     "base_uri": "https://localhost:8080/",
     "height": 34
    },
    "colab_type": "code",
    "executionInfo": {
     "elapsed": 643,
     "status": "ok",
     "timestamp": 1527790298657,
     "user": {
      "displayName": "Lucas Pogorelsky",
      "photoUrl": "//lh5.googleusercontent.com/-AWEbqdEpQhQ/AAAAAAAAAAI/AAAAAAAAB0M/2Tq1vxvgUYM/s50-c-k-no/photo.jpg",
      "userId": "115242583956541452992"
     },
     "user_tz": 180
    },
    "id": "yugmhSYVZC5G",
    "outputId": "70c325dc-0c80-4071-c721-56e8e2df5fb1"
   },
   "outputs": [
    {
     "data": {
      "text/plain": [
       "[10,\n",
       " 2,\n",
       " 'Las listas pueden contener strings',\n",
       " ['y también', 'otras listas'],\n",
       " 'agregado',\n",
       " 'agregado',\n",
       " 'agregado',\n",
       " 'agregado',\n",
       " 'agregado',\n",
       " 'agregado']"
      ]
     },
     "execution_count": 42,
     "metadata": {},
     "output_type": "execute_result"
    }
   ],
   "source": [
    "lista[0]=10\n",
    "\n",
    "lista"
   ]
  },
  {
   "cell_type": "markdown",
   "metadata": {
    "colab_type": "text",
    "id": "jMdVt_1Ha1gi"
   },
   "source": [
    "#### Agregar elementos"
   ]
  },
  {
   "cell_type": "code",
   "execution_count": 62,
   "metadata": {
    "colab": {
     "autoexec": {
      "startup": false,
      "wait_interval": 0
     },
     "base_uri": "https://localhost:8080/",
     "height": 119
    },
    "colab_type": "code",
    "executionInfo": {
     "elapsed": 925,
     "status": "ok",
     "timestamp": 1527790302128,
     "user": {
      "displayName": "Lucas Pogorelsky",
      "photoUrl": "//lh5.googleusercontent.com/-AWEbqdEpQhQ/AAAAAAAAAAI/AAAAAAAAB0M/2Tq1vxvgUYM/s50-c-k-no/photo.jpg",
      "userId": "115242583956541452992"
     },
     "user_tz": 180
    },
    "id": "OFKhW2yAa7Gs",
    "outputId": "533842c0-8105-4016-9477-91139609fe50"
   },
   "outputs": [
    {
     "data": {
      "text/plain": [
       "[1,\n",
       " 2,\n",
       " 3,\n",
       " 'Las listas pueden contener strings',\n",
       " ['y también', 'otras listas'],\n",
       " 'agregado']"
      ]
     },
     "execution_count": 62,
     "metadata": {},
     "output_type": "execute_result"
    }
   ],
   "source": [
    "lista.append('agregado')\n",
    "\n",
    "lista"
   ]
  },
  {
   "cell_type": "markdown",
   "metadata": {
    "colab_type": "text",
    "id": "K_a--pHWffz6"
   },
   "source": [
    "#### Eliminar elementos\n",
    "\n",
    "El método pop elimina el último elemento y lo muesta"
   ]
  },
  {
   "cell_type": "code",
   "execution_count": 63,
   "metadata": {
    "colab": {
     "autoexec": {
      "startup": false,
      "wait_interval": 0
     },
     "base_uri": "https://localhost:8080/",
     "height": 119
    },
    "colab_type": "code",
    "executionInfo": {
     "elapsed": 614,
     "status": "ok",
     "timestamp": 1527790304530,
     "user": {
      "displayName": "Lucas Pogorelsky",
      "photoUrl": "//lh5.googleusercontent.com/-AWEbqdEpQhQ/AAAAAAAAAAI/AAAAAAAAB0M/2Tq1vxvgUYM/s50-c-k-no/photo.jpg",
      "userId": "115242583956541452992"
     },
     "user_tz": 180
    },
    "id": "yL7YdeXQtxix",
    "outputId": "8c63275d-bd2c-424d-910b-f0379120fc3c"
   },
   "outputs": [
    {
     "data": {
      "text/plain": [
       "[1,\n",
       " 2,\n",
       " 3,\n",
       " 'Las listas pueden contener strings',\n",
       " ['y también', 'otras listas'],\n",
       " 'agregado']"
      ]
     },
     "execution_count": 63,
     "metadata": {},
     "output_type": "execute_result"
    }
   ],
   "source": [
    "lista"
   ]
  },
  {
   "cell_type": "code",
   "execution_count": 64,
   "metadata": {
    "colab": {
     "autoexec": {
      "startup": false,
      "wait_interval": 0
     },
     "base_uri": "https://localhost:8080/",
     "height": 34
    },
    "colab_type": "code",
    "executionInfo": {
     "elapsed": 1345,
     "status": "ok",
     "timestamp": 1527790308272,
     "user": {
      "displayName": "Lucas Pogorelsky",
      "photoUrl": "//lh5.googleusercontent.com/-AWEbqdEpQhQ/AAAAAAAAAAI/AAAAAAAAB0M/2Tq1vxvgUYM/s50-c-k-no/photo.jpg",
      "userId": "115242583956541452992"
     },
     "user_tz": 180
    },
    "id": "_CBXEa8rfqUr",
    "outputId": "44692fe5-860c-4a1a-b330-5cc630efc53f"
   },
   "outputs": [
    {
     "data": {
      "text/plain": [
       "'agregado'"
      ]
     },
     "execution_count": 64,
     "metadata": {},
     "output_type": "execute_result"
    }
   ],
   "source": [
    "lista.pop()"
   ]
  },
  {
   "cell_type": "code",
   "execution_count": 65,
   "metadata": {
    "colab": {
     "autoexec": {
      "startup": false,
      "wait_interval": 0
     },
     "base_uri": "https://localhost:8080/",
     "height": 34
    },
    "colab_type": "code",
    "executionInfo": {
     "elapsed": 678,
     "status": "ok",
     "timestamp": 1527790310629,
     "user": {
      "displayName": "Lucas Pogorelsky",
      "photoUrl": "//lh5.googleusercontent.com/-AWEbqdEpQhQ/AAAAAAAAAAI/AAAAAAAAB0M/2Tq1vxvgUYM/s50-c-k-no/photo.jpg",
      "userId": "115242583956541452992"
     },
     "user_tz": 180
    },
    "id": "PHtkDzIxftBU",
    "outputId": "6cbf7b1d-b7ca-48ab-d50e-62d2fa44a755"
   },
   "outputs": [
    {
     "data": {
      "text/plain": [
       "[1, 2, 3, 'Las listas pueden contener strings', ['y también', 'otras listas']]"
      ]
     },
     "execution_count": 65,
     "metadata": {},
     "output_type": "execute_result"
    }
   ],
   "source": [
    "lista"
   ]
  },
  {
   "cell_type": "markdown",
   "metadata": {
    "colab_type": "text",
    "id": "f2U0LG7gUrec"
   },
   "source": [
    "Se pueden eliminar elementos por índice"
   ]
  },
  {
   "cell_type": "code",
   "execution_count": 67,
   "metadata": {
    "colab": {
     "autoexec": {
      "startup": false,
      "wait_interval": 0
     },
     "base_uri": "https://localhost:8080/",
     "height": 34
    },
    "colab_type": "code",
    "executionInfo": {
     "elapsed": 567,
     "status": "ok",
     "timestamp": 1527790315232,
     "user": {
      "displayName": "Lucas Pogorelsky",
      "photoUrl": "//lh5.googleusercontent.com/-AWEbqdEpQhQ/AAAAAAAAAAI/AAAAAAAAB0M/2Tq1vxvgUYM/s50-c-k-no/photo.jpg",
      "userId": "115242583956541452992"
     },
     "user_tz": 180
    },
    "id": "jhGmrWklUvL9",
    "outputId": "85ad3125-b681-400d-e2f7-189430e11527"
   },
   "outputs": [
    {
     "data": {
      "text/plain": [
       "[1, 'Las listas pueden contener strings', ['y también', 'otras listas']]"
      ]
     },
     "execution_count": 67,
     "metadata": {},
     "output_type": "execute_result"
    }
   ],
   "source": [
    "del lista[1]\n",
    "\n",
    "lista"
   ]
  },
  {
   "cell_type": "markdown",
   "metadata": {
    "colab_type": "text",
    "id": "3ue0h6qDU17h"
   },
   "source": [
    "Se pueden elminar elementos de algún valor en particular "
   ]
  },
  {
   "cell_type": "code",
   "execution_count": 68,
   "metadata": {
    "colab": {
     "autoexec": {
      "startup": false,
      "wait_interval": 0
     },
     "base_uri": "https://localhost:8080/",
     "height": 34
    },
    "colab_type": "code",
    "executionInfo": {
     "elapsed": 675,
     "status": "ok",
     "timestamp": 1527790320092,
     "user": {
      "displayName": "Lucas Pogorelsky",
      "photoUrl": "//lh5.googleusercontent.com/-AWEbqdEpQhQ/AAAAAAAAAAI/AAAAAAAAB0M/2Tq1vxvgUYM/s50-c-k-no/photo.jpg",
      "userId": "115242583956541452992"
     },
     "user_tz": 180
    },
    "id": "DruylEWlU9GA",
    "outputId": "a44fcfc1-ce3f-45d9-81b5-8959b2707b3f"
   },
   "outputs": [
    {
     "data": {
      "text/plain": [
       "['Las listas pueden contener strings', ['y también', 'otras listas']]"
      ]
     },
     "execution_count": 68,
     "metadata": {},
     "output_type": "execute_result"
    }
   ],
   "source": [
    "lista.remove(1)\n",
    "\n",
    "lista"
   ]
  },
  {
   "cell_type": "markdown",
   "metadata": {
    "colab_type": "text",
    "id": "Gb5S_HTIedZe"
   },
   "source": [
    "#### Concatenar listas\n",
    "\n",
    "Para concatenar listas creando una nueva lista, se usa el símbolo +"
   ]
  },
  {
   "cell_type": "code",
   "execution_count": 69,
   "metadata": {
    "colab": {
     "autoexec": {
      "startup": false,
      "wait_interval": 0
     },
     "base_uri": "https://localhost:8080/",
     "height": 119
    },
    "colab_type": "code",
    "executionInfo": {
     "elapsed": 624,
     "status": "ok",
     "timestamp": 1527790322519,
     "user": {
      "displayName": "Lucas Pogorelsky",
      "photoUrl": "//lh5.googleusercontent.com/-AWEbqdEpQhQ/AAAAAAAAAAI/AAAAAAAAB0M/2Tq1vxvgUYM/s50-c-k-no/photo.jpg",
      "userId": "115242583956541452992"
     },
     "user_tz": 180
    },
    "id": "2z-rCkoiexZs",
    "outputId": "29a6f515-0adb-4e50-9c35-c087ddb4a601"
   },
   "outputs": [
    {
     "data": {
      "text/plain": [
       "['Las listas pueden contener strings',\n",
       " ['y también', 'otras listas'],\n",
       " 20,\n",
       " 30,\n",
       " 50]"
      ]
     },
     "execution_count": 69,
     "metadata": {},
     "output_type": "execute_result"
    }
   ],
   "source": [
    "lista + [20,30,50]"
   ]
  },
  {
   "cell_type": "markdown",
   "metadata": {
    "colab_type": "text",
    "id": "fLtl-ZuYVUsh"
   },
   "source": [
    "En caso de querer incorporar los elementos a la lista"
   ]
  },
  {
   "cell_type": "code",
   "execution_count": 71,
   "metadata": {
    "colab": {
     "autoexec": {
      "startup": false,
      "wait_interval": 0
     },
     "base_uri": "https://localhost:8080/",
     "height": 102
    },
    "colab_type": "code",
    "executionInfo": {
     "elapsed": 644,
     "status": "ok",
     "timestamp": 1527790325313,
     "user": {
      "displayName": "Lucas Pogorelsky",
      "photoUrl": "//lh5.googleusercontent.com/-AWEbqdEpQhQ/AAAAAAAAAAI/AAAAAAAAB0M/2Tq1vxvgUYM/s50-c-k-no/photo.jpg",
      "userId": "115242583956541452992"
     },
     "user_tz": 180
    },
    "id": "X5EKZx1AXf52",
    "outputId": "3dccde13-dec3-4547-f453-8f77b9050b70"
   },
   "outputs": [
    {
     "data": {
      "text/plain": [
       "['Las listas pueden contener strings',\n",
       " ['y también', 'otras listas'],\n",
       " 'agrego esto',\n",
       " 'y esto',\n",
       " 'agrego esto',\n",
       " 'y esto']"
      ]
     },
     "execution_count": 71,
     "metadata": {},
     "output_type": "execute_result"
    }
   ],
   "source": [
    "lista.extend(['agrego esto','y esto'])\n",
    "\n",
    "lista"
   ]
  },
  {
   "cell_type": "markdown",
   "metadata": {
    "colab_type": "text",
    "id": "xndkD2JGX5xd"
   },
   "source": [
    "Multiplicar una lista por un escalar concatena la lista con sí misma esa cantidad de veces"
   ]
  },
  {
   "cell_type": "code",
   "execution_count": 72,
   "metadata": {
    "colab": {
     "autoexec": {
      "startup": false,
      "wait_interval": 0
     },
     "base_uri": "https://localhost:8080/",
     "height": 272
    },
    "colab_type": "code",
    "executionInfo": {
     "elapsed": 696,
     "status": "ok",
     "timestamp": 1527790338081,
     "user": {
      "displayName": "Lucas Pogorelsky",
      "photoUrl": "//lh5.googleusercontent.com/-AWEbqdEpQhQ/AAAAAAAAAAI/AAAAAAAAB0M/2Tq1vxvgUYM/s50-c-k-no/photo.jpg",
      "userId": "115242583956541452992"
     },
     "user_tz": 180
    },
    "id": "_ghWCrcQYI6g",
    "outputId": "1be215b3-0e09-44a4-d6cd-5d3a0ad4405f"
   },
   "outputs": [
    {
     "data": {
      "text/plain": [
       "['Las listas pueden contener strings',\n",
       " ['y también', 'otras listas'],\n",
       " 'agrego esto',\n",
       " 'y esto',\n",
       " 'agrego esto',\n",
       " 'y esto',\n",
       " 'Las listas pueden contener strings',\n",
       " ['y también', 'otras listas'],\n",
       " 'agrego esto',\n",
       " 'y esto',\n",
       " 'agrego esto',\n",
       " 'y esto',\n",
       " 'Las listas pueden contener strings',\n",
       " ['y también', 'otras listas'],\n",
       " 'agrego esto',\n",
       " 'y esto',\n",
       " 'agrego esto',\n",
       " 'y esto']"
      ]
     },
     "execution_count": 72,
     "metadata": {},
     "output_type": "execute_result"
    }
   ],
   "source": [
    "lista * 3"
   ]
  },
  {
   "cell_type": "markdown",
   "metadata": {
    "colab_type": "text",
    "id": "H3e6x03sYt0a"
   },
   "source": [
    "### Tuplas\n",
    "\n",
    "Las tuplas son como las listas pero sus elementos son inmutables.\n",
    "Para crear una, se deben agregar los elementos entre ()"
   ]
  },
  {
   "cell_type": "code",
   "execution_count": 73,
   "metadata": {
    "colab": {
     "autoexec": {
      "startup": false,
      "wait_interval": 0
     },
     "base_uri": "https://localhost:8080/",
     "height": 34
    },
    "colab_type": "code",
    "executionInfo": {
     "elapsed": 766,
     "status": "ok",
     "timestamp": 1527791622207,
     "user": {
      "displayName": "Lucas Pogorelsky",
      "photoUrl": "//lh5.googleusercontent.com/-AWEbqdEpQhQ/AAAAAAAAAAI/AAAAAAAAB0M/2Tq1vxvgUYM/s50-c-k-no/photo.jpg",
      "userId": "115242583956541452992"
     },
     "user_tz": 180
    },
    "id": "-0-eKr3IePTD",
    "outputId": "fa46adb3-4ef0-4e2c-973b-16328ce58524"
   },
   "outputs": [
    {
     "data": {
      "text/plain": [
       "(1, 2, 3, 4)"
      ]
     },
     "execution_count": 73,
     "metadata": {},
     "output_type": "execute_result"
    }
   ],
   "source": [
    "tupla = (1,2,3,4)\n",
    "\n",
    "tupla"
   ]
  },
  {
   "cell_type": "code",
   "execution_count": 76,
   "metadata": {
    "colab": {
     "autoexec": {
      "startup": false,
      "wait_interval": 0
     },
     "base_uri": "https://localhost:8080/",
     "height": 163
    },
    "colab_type": "code",
    "executionInfo": {
     "elapsed": 717,
     "status": "error",
     "timestamp": 1527791624254,
     "user": {
      "displayName": "Lucas Pogorelsky",
      "photoUrl": "//lh5.googleusercontent.com/-AWEbqdEpQhQ/AAAAAAAAAAI/AAAAAAAAB0M/2Tq1vxvgUYM/s50-c-k-no/photo.jpg",
      "userId": "115242583956541452992"
     },
     "user_tz": 180
    },
    "id": "hxkWw2DNefZa",
    "outputId": "9cdd3ee9-0f70-44ec-da6d-30f351160d7b"
   },
   "outputs": [
    {
     "ename": "TypeError",
     "evalue": "'tuple' object does not support item assignment",
     "output_type": "error",
     "traceback": [
      "\u001b[1;31m---------------------------------------------------------------------------\u001b[0m",
      "\u001b[1;31mTypeError\u001b[0m                                 Traceback (most recent call last)",
      "\u001b[1;32m<ipython-input-76-68914336887d>\u001b[0m in \u001b[0;36m<module>\u001b[1;34m\u001b[0m\n\u001b[1;32m----> 1\u001b[1;33m \u001b[0mtupla\u001b[0m\u001b[1;33m[\u001b[0m\u001b[1;36m1\u001b[0m\u001b[1;33m]\u001b[0m \u001b[1;33m=\u001b[0m \u001b[1;36m20\u001b[0m\u001b[1;33m\u001b[0m\u001b[1;33m\u001b[0m\u001b[0m\n\u001b[0m",
      "\u001b[1;31mTypeError\u001b[0m: 'tuple' object does not support item assignment"
     ]
    }
   ],
   "source": [
    "tupla[1] = 20"
   ]
  },
  {
   "cell_type": "markdown",
   "metadata": {
    "colab_type": "text",
    "id": "YwE5v0iOeq8c"
   },
   "source": [
    "### Diccionarios\n",
    "\n",
    "Los diccionarios son una estructura para mapear claves a valores.\n",
    "\n",
    "Se generan poniendo la clave valor entre {}"
   ]
  },
  {
   "cell_type": "code",
   "execution_count": 78,
   "metadata": {
    "colab": {
     "autoexec": {
      "startup": false,
      "wait_interval": 0
     },
     "base_uri": "https://localhost:8080/",
     "height": 34
    },
    "colab_type": "code",
    "executionInfo": {
     "elapsed": 792,
     "status": "ok",
     "timestamp": 1527791788416,
     "user": {
      "displayName": "Lucas Pogorelsky",
      "photoUrl": "//lh5.googleusercontent.com/-AWEbqdEpQhQ/AAAAAAAAAAI/AAAAAAAAB0M/2Tq1vxvgUYM/s50-c-k-no/photo.jpg",
      "userId": "115242583956541452992"
     },
     "user_tz": 180
    },
    "id": "W-TmdNMbe3_A",
    "outputId": "af3bb3f5-4185-4833-d13b-d48d16c38f55"
   },
   "outputs": [
    {
     "data": {
      "text/plain": [
       "{}"
      ]
     },
     "execution_count": 78,
     "metadata": {},
     "output_type": "execute_result"
    }
   ],
   "source": [
    "diccionarioVacio = {}\n",
    "\n",
    "diccionarioVacio"
   ]
  },
  {
   "cell_type": "code",
   "execution_count": 80,
   "metadata": {
    "colab": {
     "autoexec": {
      "startup": false,
      "wait_interval": 0
     },
     "base_uri": "https://localhost:8080/",
     "height": 68
    },
    "colab_type": "code",
    "executionInfo": {
     "elapsed": 872,
     "status": "ok",
     "timestamp": 1527792134388,
     "user": {
      "displayName": "Lucas Pogorelsky",
      "photoUrl": "//lh5.googleusercontent.com/-AWEbqdEpQhQ/AAAAAAAAAAI/AAAAAAAAB0M/2Tq1vxvgUYM/s50-c-k-no/photo.jpg",
      "userId": "115242583956541452992"
     },
     "user_tz": 180
    },
    "id": "GL7ZYKnrfL_-",
    "outputId": "c2f84120-ba8d-4781-b3ae-5738d9502f7c"
   },
   "outputs": [
    {
     "data": {
      "text/plain": [
       "{'nombre': 'Python para Data science',\n",
       " 'cantidad de clases': 5,\n",
       " 'profesores': ['Federico', 'Matías', 'Alfredo']}"
      ]
     },
     "execution_count": 80,
     "metadata": {},
     "output_type": "execute_result"
    }
   ],
   "source": [
    "curso = {'nombre':'Python para Data science',\n",
    "        'cantidad de clases':5,\n",
    "        'profesores':['Federico','Matías','Alfredo']}\n",
    "\n",
    "curso"
   ]
  },
  {
   "cell_type": "markdown",
   "metadata": {
    "colab_type": "text",
    "id": "hBKzujV0flBy"
   },
   "source": [
    "Como podemos ver, la impresión no es en el orden en el cual fue creado.\n",
    "\n",
    "Para invocar un elemento, se llama la clave entre []"
   ]
  },
  {
   "cell_type": "code",
   "execution_count": 81,
   "metadata": {
    "colab": {
     "autoexec": {
      "startup": false,
      "wait_interval": 0
     },
     "base_uri": "https://localhost:8080/",
     "height": 34
    },
    "colab_type": "code",
    "executionInfo": {
     "elapsed": 1043,
     "status": "ok",
     "timestamp": 1527792135807,
     "user": {
      "displayName": "Lucas Pogorelsky",
      "photoUrl": "//lh5.googleusercontent.com/-AWEbqdEpQhQ/AAAAAAAAAAI/AAAAAAAAB0M/2Tq1vxvgUYM/s50-c-k-no/photo.jpg",
      "userId": "115242583956541452992"
     },
     "user_tz": 180
    },
    "id": "mY_eALzggBJt",
    "outputId": "4f5a2c0f-3e3b-4333-c7ef-2f10a5e11232"
   },
   "outputs": [
    {
     "data": {
      "text/plain": [
       "'Python para Data science'"
      ]
     },
     "execution_count": 81,
     "metadata": {},
     "output_type": "execute_result"
    }
   ],
   "source": [
    "curso['nombre']"
   ]
  },
  {
   "cell_type": "code",
   "execution_count": 82,
   "metadata": {
    "colab": {
     "autoexec": {
      "startup": false,
      "wait_interval": 0
     },
     "base_uri": "https://localhost:8080/",
     "height": 85
    },
    "colab_type": "code",
    "executionInfo": {
     "elapsed": 582,
     "status": "ok",
     "timestamp": 1527792136613,
     "user": {
      "displayName": "Lucas Pogorelsky",
      "photoUrl": "//lh5.googleusercontent.com/-AWEbqdEpQhQ/AAAAAAAAAAI/AAAAAAAAB0M/2Tq1vxvgUYM/s50-c-k-no/photo.jpg",
      "userId": "115242583956541452992"
     },
     "user_tz": 180
    },
    "id": "7PiR8YeGgIUe",
    "outputId": "fd13971f-d620-440c-c61e-4bb884907d9b"
   },
   "outputs": [
    {
     "data": {
      "text/plain": [
       "{'nombre': 'Python para Data science',\n",
       " 'cantidad de clases': 5,\n",
       " 'profesores': ['Federico', 'Matías', 'Alfredo'],\n",
       " 'workshops': 1}"
      ]
     },
     "execution_count": 82,
     "metadata": {},
     "output_type": "execute_result"
    }
   ],
   "source": [
    "curso['workshops']=1\n",
    "\n",
    "curso"
   ]
  },
  {
   "cell_type": "code",
   "execution_count": 84,
   "metadata": {
    "colab": {
     "autoexec": {
      "startup": false,
      "wait_interval": 0
     },
     "base_uri": "https://localhost:8080/",
     "height": 85
    },
    "colab_type": "code",
    "executionInfo": {
     "elapsed": 546,
     "status": "ok",
     "timestamp": 1527792137433,
     "user": {
      "displayName": "Lucas Pogorelsky",
      "photoUrl": "//lh5.googleusercontent.com/-AWEbqdEpQhQ/AAAAAAAAAAI/AAAAAAAAB0M/2Tq1vxvgUYM/s50-c-k-no/photo.jpg",
      "userId": "115242583956541452992"
     },
     "user_tz": 180
    },
    "id": "JJd9I_7NgY5l",
    "outputId": "220283a3-93c5-467b-e0b5-866cfc27fcb5"
   },
   "outputs": [
    {
     "data": {
      "text/plain": [
       "{'nombre': 'Python para Data',\n",
       " 'cantidad de clases': 5,\n",
       " 'profesores': ['Federico', 'Matías', 'Alfredo'],\n",
       " 'workshops': 1}"
      ]
     },
     "execution_count": 84,
     "metadata": {},
     "output_type": "execute_result"
    }
   ],
   "source": [
    "curso['nombre']='Python para Data'\n",
    "\n",
    "curso"
   ]
  },
  {
   "cell_type": "markdown",
   "metadata": {
    "colab_type": "text",
    "id": "V4BE6U5uhMoR"
   },
   "source": [
    "## Texto\n",
    "\n",
    "Python tiene la particularidad de poder tratar los strings como listas."
   ]
  },
  {
   "cell_type": "code",
   "execution_count": 86,
   "metadata": {
    "colab": {
     "autoexec": {
      "startup": false,
      "wait_interval": 0
     },
     "base_uri": "https://localhost:8080/",
     "height": 34
    },
    "colab_type": "code",
    "executionInfo": {
     "elapsed": 633,
     "status": "ok",
     "timestamp": 1527792708597,
     "user": {
      "displayName": "Lucas Pogorelsky",
      "photoUrl": "//lh5.googleusercontent.com/-AWEbqdEpQhQ/AAAAAAAAAAI/AAAAAAAAB0M/2Tq1vxvgUYM/s50-c-k-no/photo.jpg",
      "userId": "115242583956541452992"
     },
     "user_tz": 180
    },
    "id": "h6ws_sabhYi7",
    "outputId": "41ace65e-4637-4bab-f66c-8fd79519511a"
   },
   "outputs": [
    {
     "data": {
      "text/plain": [
       "'Always look at the bright side of life'"
      ]
     },
     "execution_count": 86,
     "metadata": {},
     "output_type": "execute_result"
    }
   ],
   "source": [
    "texto ='Always look at the bright side of life'\n",
    "\n",
    "texto"
   ]
  },
  {
   "cell_type": "code",
   "execution_count": 87,
   "metadata": {
    "colab": {
     "autoexec": {
      "startup": false,
      "wait_interval": 0
     },
     "base_uri": "https://localhost:8080/",
     "height": 34
    },
    "colab_type": "code",
    "executionInfo": {
     "elapsed": 644,
     "status": "ok",
     "timestamp": 1527792709733,
     "user": {
      "displayName": "Lucas Pogorelsky",
      "photoUrl": "//lh5.googleusercontent.com/-AWEbqdEpQhQ/AAAAAAAAAAI/AAAAAAAAB0M/2Tq1vxvgUYM/s50-c-k-no/photo.jpg",
      "userId": "115242583956541452992"
     },
     "user_tz": 180
    },
    "id": "Ugk8siVyhc5I",
    "outputId": "1c6b59d4-cf4d-4f91-c007-25dc9b0c5b92"
   },
   "outputs": [
    {
     "data": {
      "text/plain": [
       "'Alw'"
      ]
     },
     "execution_count": 87,
     "metadata": {},
     "output_type": "execute_result"
    }
   ],
   "source": [
    "texto[:3]"
   ]
  },
  {
   "cell_type": "code",
   "execution_count": 88,
   "metadata": {
    "colab": {
     "autoexec": {
      "startup": false,
      "wait_interval": 0
     },
     "base_uri": "https://localhost:8080/",
     "height": 34
    },
    "colab_type": "code",
    "executionInfo": {
     "elapsed": 637,
     "status": "ok",
     "timestamp": 1527792751824,
     "user": {
      "displayName": "Lucas Pogorelsky",
      "photoUrl": "//lh5.googleusercontent.com/-AWEbqdEpQhQ/AAAAAAAAAAI/AAAAAAAAB0M/2Tq1vxvgUYM/s50-c-k-no/photo.jpg",
      "userId": "115242583956541452992"
     },
     "user_tz": 180
    },
    "id": "9FvfK8vShne8",
    "outputId": "3bb17e6a-f16a-4670-eb9c-7917e81e3803"
   },
   "outputs": [
    {
     "data": {
      "text/plain": [
       "'look'"
      ]
     },
     "execution_count": 88,
     "metadata": {},
     "output_type": "execute_result"
    }
   ],
   "source": [
    "texto[7:11]"
   ]
  },
  {
   "cell_type": "markdown",
   "metadata": {
    "colab_type": "text",
    "id": "vetAPczFiK6o"
   },
   "source": [
    "### Algunos métodos de los strings"
   ]
  },
  {
   "cell_type": "code",
   "execution_count": 89,
   "metadata": {
    "colab": {
     "autoexec": {
      "startup": false,
      "wait_interval": 0
     },
     "base_uri": "https://localhost:8080/",
     "height": 34
    },
    "colab_type": "code",
    "executionInfo": {
     "elapsed": 812,
     "status": "ok",
     "timestamp": 1527792756957,
     "user": {
      "displayName": "Lucas Pogorelsky",
      "photoUrl": "//lh5.googleusercontent.com/-AWEbqdEpQhQ/AAAAAAAAAAI/AAAAAAAAB0M/2Tq1vxvgUYM/s50-c-k-no/photo.jpg",
      "userId": "115242583956541452992"
     },
     "user_tz": 180
    },
    "id": "kIE_zjWqiErp",
    "outputId": "cba38d71-566f-40e8-ec2c-c4c29dac4f5e"
   },
   "outputs": [
    {
     "data": {
      "text/plain": [
       "'ALWAYS LOOK AT THE BRIGHT SIDE OF LIFE'"
      ]
     },
     "execution_count": 89,
     "metadata": {},
     "output_type": "execute_result"
    }
   ],
   "source": [
    "texto.upper()"
   ]
  },
  {
   "cell_type": "code",
   "execution_count": 90,
   "metadata": {
    "colab": {
     "autoexec": {
      "startup": false,
      "wait_interval": 0
     },
     "base_uri": "https://localhost:8080/",
     "height": 34
    },
    "colab_type": "code",
    "executionInfo": {
     "elapsed": 557,
     "status": "ok",
     "timestamp": 1527792757818,
     "user": {
      "displayName": "Lucas Pogorelsky",
      "photoUrl": "//lh5.googleusercontent.com/-AWEbqdEpQhQ/AAAAAAAAAAI/AAAAAAAAB0M/2Tq1vxvgUYM/s50-c-k-no/photo.jpg",
      "userId": "115242583956541452992"
     },
     "user_tz": 180
    },
    "id": "sP5pUbgNiZrX",
    "outputId": "58001d4b-9b50-497b-bfc7-5b22ea7d8dd9"
   },
   "outputs": [
    {
     "data": {
      "text/plain": [
       "'always look at the bright side of life'"
      ]
     },
     "execution_count": 90,
     "metadata": {},
     "output_type": "execute_result"
    }
   ],
   "source": [
    "texto.lower()"
   ]
  },
  {
   "cell_type": "code",
   "execution_count": 91,
   "metadata": {
    "colab": {
     "autoexec": {
      "startup": false,
      "wait_interval": 0
     },
     "base_uri": "https://localhost:8080/",
     "height": 34
    },
    "colab_type": "code",
    "executionInfo": {
     "elapsed": 704,
     "status": "ok",
     "timestamp": 1527792770707,
     "user": {
      "displayName": "Lucas Pogorelsky",
      "photoUrl": "//lh5.googleusercontent.com/-AWEbqdEpQhQ/AAAAAAAAAAI/AAAAAAAAB0M/2Tq1vxvgUYM/s50-c-k-no/photo.jpg",
      "userId": "115242583956541452992"
     },
     "user_tz": 180
    },
    "id": "mCJFr68RicV-",
    "outputId": "0455b0b6-5c8c-460f-c105-eb1867259988"
   },
   "outputs": [
    {
     "data": {
      "text/plain": [
       "['Always', 'look', 'at', 'the', 'bright', 'side', 'of', 'life']"
      ]
     },
     "execution_count": 91,
     "metadata": {},
     "output_type": "execute_result"
    }
   ],
   "source": [
    "texto.split(' ')"
   ]
  },
  {
   "cell_type": "markdown",
   "metadata": {
    "colab_type": "text",
    "id": "BLKtV0hFjUmI"
   },
   "source": [
    "## Condicionales\n",
    "\n",
    "Para hacer un condicional, se debe poner if, la condición, luego : , identado en la línea siguiente lo que debe ejecutarse si se cumple la condición."
   ]
  },
  {
   "cell_type": "code",
   "execution_count": 92,
   "metadata": {
    "colab": {
     "autoexec": {
      "startup": false,
      "wait_interval": 0
     },
     "base_uri": "https://localhost:8080/",
     "height": 34
    },
    "colab_type": "code",
    "executionInfo": {
     "elapsed": 863,
     "status": "ok",
     "timestamp": 1527793604111,
     "user": {
      "displayName": "Lucas Pogorelsky",
      "photoUrl": "//lh5.googleusercontent.com/-AWEbqdEpQhQ/AAAAAAAAAAI/AAAAAAAAB0M/2Tq1vxvgUYM/s50-c-k-no/photo.jpg",
      "userId": "115242583956541452992"
     },
     "user_tz": 180
    },
    "id": "OfVzy_TcjQ_9",
    "outputId": "b250c361-8477-4c02-efb2-a17374f8e7f9"
   },
   "outputs": [
    {
     "name": "stdout",
     "output_type": "stream",
     "text": [
      "El número es menor que 6 pero mayor o igual a 4\n"
     ]
    }
   ],
   "source": [
    "numero = 5\n",
    "\n",
    "if numero < 4:\n",
    "  print('El número es menor que 4')\n",
    "elif numero < 6:\n",
    "  print('El número es menor que 6 pero mayor o igual a 4')\n",
    "else:\n",
    "  print('El número es mayor o igual a 6')"
   ]
  },
  {
   "cell_type": "markdown",
   "metadata": {
    "colab_type": "text",
    "id": "qVe1WsN2nekD"
   },
   "source": [
    "Hay otra estructura para cuando se debe sólo devolver un valor"
   ]
  },
  {
   "cell_type": "code",
   "execution_count": null,
   "metadata": {
    "colab": {
     "autoexec": {
      "startup": false,
      "wait_interval": 0
     },
     "base_uri": "https://localhost:8080/",
     "height": 34
    },
    "colab_type": "code",
    "executionInfo": {
     "elapsed": 697,
     "status": "ok",
     "timestamp": 1527794045555,
     "user": {
      "displayName": "Lucas Pogorelsky",
      "photoUrl": "//lh5.googleusercontent.com/-AWEbqdEpQhQ/AAAAAAAAAAI/AAAAAAAAB0M/2Tq1vxvgUYM/s50-c-k-no/photo.jpg",
      "userId": "115242583956541452992"
     },
     "user_tz": 180
    },
    "id": "MKJvrzNYnk-L",
    "outputId": "230d0d4b-5ab6-4797-bb30-c99ad5beae2a"
   },
   "outputs": [],
   "source": [
    "'El numero es menor a 5' if numero <5 else 'El numero es mayor o igual a 5'"
   ]
  },
  {
   "cell_type": "markdown",
   "metadata": {
    "colab_type": "text",
    "id": "10uFn3Gtnyg9"
   },
   "source": [
    "## Iteraciones\n",
    "\n",
    "### for loop"
   ]
  },
  {
   "cell_type": "code",
   "execution_count": 93,
   "metadata": {
    "colab": {
     "autoexec": {
      "startup": false,
      "wait_interval": 0
     },
     "base_uri": "https://localhost:8080/",
     "height": 136
    },
    "colab_type": "code",
    "executionInfo": {
     "elapsed": 644,
     "status": "ok",
     "timestamp": 1527794142930,
     "user": {
      "displayName": "Lucas Pogorelsky",
      "photoUrl": "//lh5.googleusercontent.com/-AWEbqdEpQhQ/AAAAAAAAAAI/AAAAAAAAB0M/2Tq1vxvgUYM/s50-c-k-no/photo.jpg",
      "userId": "115242583956541452992"
     },
     "user_tz": 180
    },
    "id": "HcJQteE5n8I-",
    "outputId": "7f295f36-4a4a-42b5-9126-02346516dd82"
   },
   "outputs": [
    {
     "name": "stdout",
     "output_type": "stream",
     "text": [
      "2\n",
      "4\n",
      "8\n",
      "16\n",
      "32\n",
      "64\n",
      "128\n"
     ]
    }
   ],
   "source": [
    "iterar=[1,2,3,4,5,6,7]\n",
    "\n",
    "for i in iterar:\n",
    "  print(2**i)"
   ]
  },
  {
   "cell_type": "markdown",
   "metadata": {
    "colab_type": "text",
    "id": "f2d6K0Cjoes9"
   },
   "source": [
    "### while"
   ]
  },
  {
   "cell_type": "code",
   "execution_count": null,
   "metadata": {
    "colab": {
     "autoexec": {
      "startup": false,
      "wait_interval": 0
     },
     "base_uri": "https://localhost:8080/",
     "height": 153
    },
    "colab_type": "code",
    "executionInfo": {
     "elapsed": 655,
     "status": "ok",
     "timestamp": 1527794339369,
     "user": {
      "displayName": "Lucas Pogorelsky",
      "photoUrl": "//lh5.googleusercontent.com/-AWEbqdEpQhQ/AAAAAAAAAAI/AAAAAAAAB0M/2Tq1vxvgUYM/s50-c-k-no/photo.jpg",
      "userId": "115242583956541452992"
     },
     "user_tz": 180
    },
    "id": "cXvfhk5voVuM",
    "outputId": "40882053-9958-4d0d-b68a-98095ee8ff8e"
   },
   "outputs": [],
   "source": [
    "resultado = 1\n",
    "i = 0\n",
    "\n",
    "while resultado < 1000:\n",
    "  resultado = 3**i\n",
    "  i+=1 #Esto suma 1 a la variable i\n",
    "  print(resultado)\n"
   ]
  },
  {
   "cell_type": "markdown",
   "metadata": {
    "colab_type": "text",
    "id": "uaKiiFnHpJvS"
   },
   "source": [
    "### list comprehension\n",
    "\n",
    "Es una forma de iterar sobre los valores de una lista y devolver una lista"
   ]
  },
  {
   "cell_type": "code",
   "execution_count": 94,
   "metadata": {
    "colab": {
     "autoexec": {
      "startup": false,
      "wait_interval": 0
     },
     "base_uri": "https://localhost:8080/",
     "height": 34
    },
    "colab_type": "code",
    "executionInfo": {
     "elapsed": 658,
     "status": "ok",
     "timestamp": 1527794474574,
     "user": {
      "displayName": "Lucas Pogorelsky",
      "photoUrl": "//lh5.googleusercontent.com/-AWEbqdEpQhQ/AAAAAAAAAAI/AAAAAAAAB0M/2Tq1vxvgUYM/s50-c-k-no/photo.jpg",
      "userId": "115242583956541452992"
     },
     "user_tz": 180
    },
    "id": "KFxTBeR_pTAw",
    "outputId": "3b873eef-47e6-468f-9ebd-aa3d608e98bc"
   },
   "outputs": [
    {
     "data": {
      "text/plain": [
       "[1, 4, 9, 16, 25, 36, 49, 64]"
      ]
     },
     "execution_count": 94,
     "metadata": {},
     "output_type": "execute_result"
    }
   ],
   "source": [
    "lista = [1,2,3,4,5,6,7,8]\n",
    "\n",
    "[x**2 for x in lista]"
   ]
  },
  {
   "cell_type": "markdown",
   "metadata": {
    "colab_type": "text",
    "id": "pZHuzUgQpbqI"
   },
   "source": [
    "Se pueden agregar condiciones"
   ]
  },
  {
   "cell_type": "code",
   "execution_count": null,
   "metadata": {
    "colab": {
     "autoexec": {
      "startup": false,
      "wait_interval": 0
     },
     "base_uri": "https://localhost:8080/",
     "height": 34
    },
    "colab_type": "code",
    "executionInfo": {
     "elapsed": 661,
     "status": "ok",
     "timestamp": 1527794554869,
     "user": {
      "displayName": "Lucas Pogorelsky",
      "photoUrl": "//lh5.googleusercontent.com/-AWEbqdEpQhQ/AAAAAAAAAAI/AAAAAAAAB0M/2Tq1vxvgUYM/s50-c-k-no/photo.jpg",
      "userId": "115242583956541452992"
     },
     "user_tz": 180
    },
    "id": "gM6_Hv2kph3-",
    "outputId": "5f1ddeac-2124-43ec-dd02-b8b56eed77f4"
   },
   "outputs": [],
   "source": [
    "[x**2 for x in lista if x%2==0]"
   ]
  },
  {
   "cell_type": "code",
   "execution_count": null,
   "metadata": {
    "colab": {
     "autoexec": {
      "startup": false,
      "wait_interval": 0
     },
     "base_uri": "https://localhost:8080/",
     "height": 34
    },
    "colab_type": "code",
    "executionInfo": {
     "elapsed": 625,
     "status": "ok",
     "timestamp": 1527794601996,
     "user": {
      "displayName": "Lucas Pogorelsky",
      "photoUrl": "//lh5.googleusercontent.com/-AWEbqdEpQhQ/AAAAAAAAAAI/AAAAAAAAB0M/2Tq1vxvgUYM/s50-c-k-no/photo.jpg",
      "userId": "115242583956541452992"
     },
     "user_tz": 180
    },
    "id": "U5P7C3J3pwG4",
    "outputId": "cd3d9094-4338-4480-a009-32b7647a28f0"
   },
   "outputs": [],
   "source": [
    "[x**2 if x%2==0 else -(x**2) for x in lista]"
   ]
  },
  {
   "cell_type": "markdown",
   "metadata": {
    "colab_type": "text",
    "id": "E3CHtfTTpeKT"
   },
   "source": [
    "## Funciones\n",
    "\n",
    "Para definir una función se debe escribir def, nombre de la función, parámetroes entre (), : y debajo identado lo que debe ejecutarse.\n",
    "\n",
    "En caso de devolverse un valor, se debe especificar lo que debe devolver con return."
   ]
  },
  {
   "cell_type": "code",
   "execution_count": null,
   "metadata": {
    "colab": {
     "autoexec": {
      "startup": false,
      "wait_interval": 0
     },
     "base_uri": "https://localhost:8080/",
     "height": 119
    },
    "colab_type": "code",
    "executionInfo": {
     "elapsed": 768,
     "status": "ok",
     "timestamp": 1527794804816,
     "user": {
      "displayName": "Lucas Pogorelsky",
      "photoUrl": "//lh5.googleusercontent.com/-AWEbqdEpQhQ/AAAAAAAAAAI/AAAAAAAAB0M/2Tq1vxvgUYM/s50-c-k-no/photo.jpg",
      "userId": "115242583956541452992"
     },
     "user_tz": 180
    },
    "id": "ZR5LKn_zqSv0",
    "outputId": "fcbd5518-2e2a-4622-f42c-378742ac5ceb"
   },
   "outputs": [],
   "source": [
    "def imprimoCuadrados(x):\n",
    "  i=0\n",
    "  while i<=x:\n",
    "    print(i**2)\n",
    "    i+=1\n",
    "    \n",
    "imprimoCuadrados(5)"
   ]
  },
  {
   "cell_type": "code",
   "execution_count": null,
   "metadata": {
    "colab": {
     "autoexec": {
      "startup": false,
      "wait_interval": 0
     },
     "base_uri": "https://localhost:8080/",
     "height": 34
    },
    "colab_type": "code",
    "executionInfo": {
     "elapsed": 654,
     "status": "ok",
     "timestamp": 1527794924824,
     "user": {
      "displayName": "Lucas Pogorelsky",
      "photoUrl": "//lh5.googleusercontent.com/-AWEbqdEpQhQ/AAAAAAAAAAI/AAAAAAAAB0M/2Tq1vxvgUYM/s50-c-k-no/photo.jpg",
      "userId": "115242583956541452992"
     },
     "user_tz": 180
    },
    "id": "MjIP45INqxhj",
    "outputId": "5e791f55-a83b-4afe-f937-be418c3567ab"
   },
   "outputs": [],
   "source": [
    "def pasoAMayusculaYSeparo(texto):\n",
    "  separado = texto.upper().split(' ')\n",
    "  return separado\n",
    "  \n",
    "pasoAMayusculaYSeparo('Este Ejemplo es malo')"
   ]
  },
  {
   "cell_type": "code",
   "execution_count": null,
   "metadata": {
    "colab": {
     "autoexec": {
      "startup": false,
      "wait_interval": 0
     },
     "base_uri": "https://localhost:8080/",
     "height": 34
    },
    "colab_type": "code",
    "executionInfo": {
     "elapsed": 691,
     "status": "ok",
     "timestamp": 1527794969463,
     "user": {
      "displayName": "Lucas Pogorelsky",
      "photoUrl": "//lh5.googleusercontent.com/-AWEbqdEpQhQ/AAAAAAAAAAI/AAAAAAAAB0M/2Tq1vxvgUYM/s50-c-k-no/photo.jpg",
      "userId": "115242583956541452992"
     },
     "user_tz": 180
    },
    "id": "C_C-HXhYrJJ2",
    "outputId": "eb56bf47-4a13-40a7-bd21-0c9032e1a809"
   },
   "outputs": [],
   "source": [
    "def potencia(x,y):\n",
    "  return x**y\n",
    "\n",
    "potencia(3,2)"
   ]
  },
  {
   "cell_type": "markdown",
   "metadata": {
    "colab_type": "text",
    "id": "_hREmD2trunT"
   },
   "source": [
    "### Funciones lambda\n",
    "\n",
    "Las funciones lambda son funcione anónimas, por lo cual se puede utilizar sin que persistan en memoria"
   ]
  },
  {
   "cell_type": "code",
   "execution_count": 47,
   "metadata": {
    "colab": {
     "autoexec": {
      "startup": false,
      "wait_interval": 0
     },
     "base_uri": "https://localhost:8080/",
     "height": 34
    },
    "colab_type": "code",
    "executionInfo": {
     "elapsed": 688,
     "status": "ok",
     "timestamp": 1527795170588,
     "user": {
      "displayName": "Lucas Pogorelsky",
      "photoUrl": "//lh5.googleusercontent.com/-AWEbqdEpQhQ/AAAAAAAAAAI/AAAAAAAAB0M/2Tq1vxvgUYM/s50-c-k-no/photo.jpg",
      "userId": "115242583956541452992"
     },
     "user_tz": 180
    },
    "id": "AtjKSV4vr5ed",
    "outputId": "7381f257-401f-4e10-b472-ace1f0a5c5e7"
   },
   "outputs": [
    {
     "data": {
      "text/plain": [
       "'Acá p'"
      ]
     },
     "execution_count": 47,
     "metadata": {},
     "output_type": "execute_result"
    }
   ],
   "source": [
    "(lambda x:x[0:5])('Acá pongo un texto por ponerlo')"
   ]
  },
  {
   "cell_type": "code",
   "execution_count": 48,
   "metadata": {
    "colab": {
     "autoexec": {
      "startup": false,
      "wait_interval": 0
     },
     "base_uri": "https://localhost:8080/",
     "height": 34
    },
    "colab_type": "code",
    "executionInfo": {
     "elapsed": 706,
     "status": "ok",
     "timestamp": 1527795207353,
     "user": {
      "displayName": "Lucas Pogorelsky",
      "photoUrl": "//lh5.googleusercontent.com/-AWEbqdEpQhQ/AAAAAAAAAAI/AAAAAAAAB0M/2Tq1vxvgUYM/s50-c-k-no/photo.jpg",
      "userId": "115242583956541452992"
     },
     "user_tz": 180
    },
    "id": "NXRygcJLsFED",
    "outputId": "e9c3b5ea-1a9f-4bb1-bd5b-a73a4631c28f"
   },
   "outputs": [
    {
     "data": {
      "text/plain": [
       "8"
      ]
     },
     "execution_count": 48,
     "metadata": {},
     "output_type": "execute_result"
    }
   ],
   "source": [
    "(lambda x,y:x**y)(2,3)"
   ]
  },
  {
   "cell_type": "markdown",
   "metadata": {
    "colab_type": "text",
    "id": "VnHb4EPIsaM0"
   },
   "source": [
    "## Módulos\n",
    "\n",
    "Python tiene numerosas librerías, las más usadas para Data Science son Pandas, Numpy y Scikit-Learn.\n",
    "\n",
    "Para invocar todo un módulo"
   ]
  },
  {
   "cell_type": "code",
   "execution_count": null,
   "metadata": {
    "colab": {
     "autoexec": {
      "startup": false,
      "wait_interval": 0
     },
     "base_uri": "https://localhost:8080/",
     "height": 34
    },
    "colab_type": "code",
    "executionInfo": {
     "elapsed": 673,
     "status": "ok",
     "timestamp": 1527795390946,
     "user": {
      "displayName": "Lucas Pogorelsky",
      "photoUrl": "//lh5.googleusercontent.com/-AWEbqdEpQhQ/AAAAAAAAAAI/AAAAAAAAB0M/2Tq1vxvgUYM/s50-c-k-no/photo.jpg",
      "userId": "115242583956541452992"
     },
     "user_tz": 180
    },
    "id": "PvX1azZEs26L",
    "outputId": "91303a8c-ff98-47ae-f8d7-70ea0f3a0518"
   },
   "outputs": [],
   "source": [
    "import math\n",
    "\n",
    "math.sqrt(16)"
   ]
  },
  {
   "cell_type": "markdown",
   "metadata": {
    "colab_type": "text",
    "id": "gkwBRReKs6hO"
   },
   "source": [
    "Se puede importar con un alias"
   ]
  },
  {
   "cell_type": "code",
   "execution_count": null,
   "metadata": {
    "colab": {
     "autoexec": {
      "startup": false,
      "wait_interval": 0
     },
     "base_uri": "https://localhost:8080/",
     "height": 34
    },
    "colab_type": "code",
    "executionInfo": {
     "elapsed": 660,
     "status": "ok",
     "timestamp": 1527795415261,
     "user": {
      "displayName": "Lucas Pogorelsky",
      "photoUrl": "//lh5.googleusercontent.com/-AWEbqdEpQhQ/AAAAAAAAAAI/AAAAAAAAB0M/2Tq1vxvgUYM/s50-c-k-no/photo.jpg",
      "userId": "115242583956541452992"
     },
     "user_tz": 180
    },
    "id": "f2GoaM1zs8o9",
    "outputId": "09a61f2c-bc1e-4a6d-c29f-c504978f0a42"
   },
   "outputs": [],
   "source": [
    "import math as m\n",
    "\n",
    "m.sqrt(9)"
   ]
  },
  {
   "cell_type": "markdown",
   "metadata": {
    "colab_type": "text",
    "id": "i_zahjC5tBTV"
   },
   "source": [
    "Se pueden importar objetos particulares de los módulos"
   ]
  },
  {
   "cell_type": "code",
   "execution_count": null,
   "metadata": {
    "colab": {
     "autoexec": {
      "startup": false,
      "wait_interval": 0
     },
     "base_uri": "https://localhost:8080/",
     "height": 34
    },
    "colab_type": "code",
    "executionInfo": {
     "elapsed": 639,
     "status": "ok",
     "timestamp": 1527795452524,
     "user": {
      "displayName": "Lucas Pogorelsky",
      "photoUrl": "//lh5.googleusercontent.com/-AWEbqdEpQhQ/AAAAAAAAAAI/AAAAAAAAB0M/2Tq1vxvgUYM/s50-c-k-no/photo.jpg",
      "userId": "115242583956541452992"
     },
     "user_tz": 180
    },
    "id": "TS1dQ0vBtFew",
    "outputId": "04f93cec-7887-42ef-e5c8-3f8d8b279d21"
   },
   "outputs": [],
   "source": [
    "from math import sqrt\n",
    "\n",
    "sqrt(25)"
   ]
  },
  {
   "cell_type": "markdown",
   "metadata": {},
   "source": [
    "# Ejercicios"
   ]
  },
  {
   "cell_type": "markdown",
   "metadata": {},
   "source": [
    "1) El último teorema de Fermat dice que no hay enteros positivos a,b, c tales que `a ** n + b ** n = c ** n`\n",
    "\n",
    "para cualquier entero n mayor a 2. \n",
    "\n",
    "Hacer una función check_fermat que reciba cuatro parámetros a, b, c y n e imprima en pantalla si Fermat estaba equivocado o no."
   ]
  },
  {
   "cell_type": "markdown",
   "metadata": {},
   "source": [
    "2)Dada la función recursiva de la celda de abajo, que pasa si hacemos recurse(-1, 0)?"
   ]
  },
  {
   "cell_type": "code",
   "execution_count": 2,
   "metadata": {},
   "outputs": [
    {
     "name": "stdout",
     "output_type": "stream",
     "text": [
      "6\n"
     ]
    }
   ],
   "source": [
    "def recurse(n, s):    \n",
    "    if n == 0:        \n",
    "        print(s)    \n",
    "    else:\n",
    "        recurse(n - 1, n + s)\n",
    "\n",
    "recurse(3, 0)"
   ]
  },
  {
   "cell_type": "markdown",
   "metadata": {},
   "source": [
    "3) Supongamos que el precio de un libro es 240.95, pero las librerías tienen un 40% de descuento. El costo de envio 30 por la primera copia y 7.5 por cada copia adicional. Cual es el precio total por 60 copias?"
   ]
  },
  {
   "cell_type": "code",
   "execution_count": 14,
   "metadata": {},
   "outputs": [
    {
     "name": "stdout",
     "output_type": "stream",
     "text": [
      "9146.699999999999\n"
     ]
    }
   ],
   "source": [
    "# Tratar de definir como funcion\n",
    "\n",
    "costo_de_envio_i= 30\n",
    "costo_de_envio_f=7.5\n",
    "precio=144.57\n",
    "# 60 copias\n",
    "\n",
    "Costo_total_compra= (precio*60)+(costo_de_envio_i)+(costo_de_envio_f*59)\n",
    "print(Costo_total_compra)"
   ]
  },
  {
   "cell_type": "code",
   "execution_count": 5,
   "metadata": {},
   "outputs": [
    {
     "data": {
      "text/plain": [
       "144.57"
      ]
     },
     "execution_count": 5,
     "metadata": {},
     "output_type": "execute_result"
    }
   ],
   "source": [
    "240.95*0.6"
   ]
  },
  {
   "cell_type": "markdown",
   "metadata": {},
   "source": [
    "4) Escribir una funcion llamada right_justify que tome un string llamado s que imprima el string con suficientes espacios en blancos para que ocupe 30 caracteres."
   ]
  },
  {
   "cell_type": "markdown",
   "metadata": {},
   "source": [
    "right_justify(\"maradona\")\n",
    "\n",
    "                      maradona"
   ]
  }
 ],
 "metadata": {
  "colab": {
   "collapsed_sections": [],
   "default_view": {},
   "name": "EANT Python 101",
   "provenance": [],
   "toc_visible": true,
   "version": "0.3.2",
   "views": {}
  },
  "kernelspec": {
   "display_name": "Python 3",
   "language": "python",
   "name": "python3"
  },
  "language_info": {
   "codemirror_mode": {
    "name": "ipython",
    "version": 3
   },
   "file_extension": ".py",
   "mimetype": "text/x-python",
   "name": "python",
   "nbconvert_exporter": "python",
   "pygments_lexer": "ipython3",
   "version": "3.7.1"
  }
 },
 "nbformat": 4,
 "nbformat_minor": 1
}
